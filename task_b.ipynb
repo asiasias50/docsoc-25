{
 "cells": [
  {
   "cell_type": "markdown",
   "metadata": {},
   "source": [
    "# Task B: Stack Overflow Developer Survey 2025 Analytics\n",
    "\n",
    "You are provided with the latest developer survey results from Stack Overflow. Your task is to perform analytics on the survey to extract insights about the programming industry."
   ]
  },
  {
   "cell_type": "markdown",
   "metadata": {},
   "source": [
    "## Setup\n",
    "If you are in google colab, you should just be able to run the cell below. Otherwise find the conda `environment.yml` file provided with all the dependencies."
   ]
  },
  {
   "cell_type": "code",
   "metadata": {
    "ExecuteTime": {
     "end_time": "2025-10-07T13:14:58.195771Z",
     "start_time": "2025-10-07T13:14:57.612510Z"
    }
   },
   "source": [
    "from numpy.distutils.system_info import language_map\n",
    "%pip install pandas\n",
    "import pandas as pd"
   ],
   "outputs": [
    {
     "ename": "ModuleNotFoundError",
     "evalue": "No module named 'distutils.msvccompiler'",
     "output_type": "error",
     "traceback": [
      "\u001B[31m---------------------------------------------------------------------------\u001B[39m",
      "\u001B[31mModuleNotFoundError\u001B[39m                       Traceback (most recent call last)",
      "\u001B[36mCell\u001B[39m\u001B[36m \u001B[39m\u001B[32mIn[3]\u001B[39m\u001B[32m, line 1\u001B[39m\n\u001B[32m----> \u001B[39m\u001B[32m1\u001B[39m \u001B[38;5;28;01mfrom\u001B[39;00m\u001B[38;5;250m \u001B[39m\u001B[34;01mnumpy\u001B[39;00m\u001B[34;01m.\u001B[39;00m\u001B[34;01mdistutils\u001B[39;00m\u001B[34;01m.\u001B[39;00m\u001B[34;01msystem_info\u001B[39;00m\u001B[38;5;250m \u001B[39m\u001B[38;5;28;01mimport\u001B[39;00m language_map\n\u001B[32m      2\u001B[39m get_ipython().run_line_magic(\u001B[33m'\u001B[39m\u001B[33mpip\u001B[39m\u001B[33m'\u001B[39m, \u001B[33m'\u001B[39m\u001B[33minstall pandas\u001B[39m\u001B[33m'\u001B[39m)\n\u001B[32m      3\u001B[39m \u001B[38;5;28;01mimport\u001B[39;00m\u001B[38;5;250m \u001B[39m\u001B[34;01mpandas\u001B[39;00m\u001B[38;5;250m \u001B[39m\u001B[38;5;28;01mas\u001B[39;00m\u001B[38;5;250m \u001B[39m\u001B[34;01mpd\u001B[39;00m\n",
      "\u001B[36mFile \u001B[39m\u001B[32m~/miniconda3/envs/docsoc-25/lib/python3.11/site-packages/numpy/distutils/system_info.py:200\u001B[39m\n\u001B[32m    195\u001B[39m \u001B[38;5;28;01mfrom\u001B[39;00m\u001B[38;5;250m \u001B[39m\u001B[34;01mnumpy\u001B[39;00m\u001B[34;01m.\u001B[39;00m\u001B[34;01mdistutils\u001B[39;00m\u001B[34;01m.\u001B[39;00m\u001B[34;01mexec_command\u001B[39;00m\u001B[38;5;250m \u001B[39m\u001B[38;5;28;01mimport\u001B[39;00m (\n\u001B[32m    196\u001B[39m     find_executable, filepath_from_subprocess_output,\n\u001B[32m    197\u001B[39m     )\n\u001B[32m    198\u001B[39m \u001B[38;5;28;01mfrom\u001B[39;00m\u001B[38;5;250m \u001B[39m\u001B[34;01mnumpy\u001B[39;00m\u001B[34;01m.\u001B[39;00m\u001B[34;01mdistutils\u001B[39;00m\u001B[34;01m.\u001B[39;00m\u001B[34;01mmisc_util\u001B[39;00m\u001B[38;5;250m \u001B[39m\u001B[38;5;28;01mimport\u001B[39;00m (is_sequence, is_string,\n\u001B[32m    199\u001B[39m                                        get_shared_lib_extension)\n\u001B[32m--> \u001B[39m\u001B[32m200\u001B[39m \u001B[38;5;28;01mfrom\u001B[39;00m\u001B[38;5;250m \u001B[39m\u001B[34;01mnumpy\u001B[39;00m\u001B[34;01m.\u001B[39;00m\u001B[34;01mdistutils\u001B[39;00m\u001B[34;01m.\u001B[39;00m\u001B[34;01mcommand\u001B[39;00m\u001B[34;01m.\u001B[39;00m\u001B[34;01mconfig\u001B[39;00m\u001B[38;5;250m \u001B[39m\u001B[38;5;28;01mimport\u001B[39;00m config \u001B[38;5;28;01mas\u001B[39;00m cmd_config\n\u001B[32m    201\u001B[39m \u001B[38;5;28;01mfrom\u001B[39;00m\u001B[38;5;250m \u001B[39m\u001B[34;01mnumpy\u001B[39;00m\u001B[34;01m.\u001B[39;00m\u001B[34;01mdistutils\u001B[39;00m\u001B[38;5;250m \u001B[39m\u001B[38;5;28;01mimport\u001B[39;00m customized_ccompiler \u001B[38;5;28;01mas\u001B[39;00m _customized_ccompiler\n\u001B[32m    202\u001B[39m \u001B[38;5;28;01mfrom\u001B[39;00m\u001B[38;5;250m \u001B[39m\u001B[34;01mnumpy\u001B[39;00m\u001B[34;01m.\u001B[39;00m\u001B[34;01mdistutils\u001B[39;00m\u001B[38;5;250m \u001B[39m\u001B[38;5;28;01mimport\u001B[39;00m _shell_utils\n",
      "\u001B[36mFile \u001B[39m\u001B[32m~/miniconda3/envs/docsoc-25/lib/python3.11/site-packages/numpy/distutils/command/config.py:19\u001B[39m\n\u001B[32m     17\u001B[39m \u001B[38;5;28;01mimport\u001B[39;00m\u001B[38;5;250m \u001B[39m\u001B[34;01mdistutils\u001B[39;00m\n\u001B[32m     18\u001B[39m \u001B[38;5;28;01mfrom\u001B[39;00m\u001B[38;5;250m \u001B[39m\u001B[34;01mnumpy\u001B[39;00m\u001B[34;01m.\u001B[39;00m\u001B[34;01mdistutils\u001B[39;00m\u001B[34;01m.\u001B[39;00m\u001B[34;01mexec_command\u001B[39;00m\u001B[38;5;250m \u001B[39m\u001B[38;5;28;01mimport\u001B[39;00m filepath_from_subprocess_output\n\u001B[32m---> \u001B[39m\u001B[32m19\u001B[39m \u001B[38;5;28;01mfrom\u001B[39;00m\u001B[38;5;250m \u001B[39m\u001B[34;01mnumpy\u001B[39;00m\u001B[34;01m.\u001B[39;00m\u001B[34;01mdistutils\u001B[39;00m\u001B[34;01m.\u001B[39;00m\u001B[34;01mmingw32ccompiler\u001B[39;00m\u001B[38;5;250m \u001B[39m\u001B[38;5;28;01mimport\u001B[39;00m generate_manifest\n\u001B[32m     20\u001B[39m \u001B[38;5;28;01mfrom\u001B[39;00m\u001B[38;5;250m \u001B[39m\u001B[34;01mnumpy\u001B[39;00m\u001B[34;01m.\u001B[39;00m\u001B[34;01mdistutils\u001B[39;00m\u001B[34;01m.\u001B[39;00m\u001B[34;01mcommand\u001B[39;00m\u001B[34;01m.\u001B[39;00m\u001B[34;01mautodist\u001B[39;00m\u001B[38;5;250m \u001B[39m\u001B[38;5;28;01mimport\u001B[39;00m (check_gcc_function_attribute,\n\u001B[32m     21\u001B[39m                                               check_gcc_function_attribute_with_intrinsics,\n\u001B[32m     22\u001B[39m                                               check_gcc_variable_attribute,\n\u001B[32m   (...)\u001B[39m\u001B[32m     25\u001B[39m                                               check_restrict,\n\u001B[32m     26\u001B[39m                                               check_compiler_gcc)\n\u001B[32m     28\u001B[39m LANG_EXT[\u001B[33m'\u001B[39m\u001B[33mf77\u001B[39m\u001B[33m'\u001B[39m] = \u001B[33m'\u001B[39m\u001B[33m.f\u001B[39m\u001B[33m'\u001B[39m\n",
      "\u001B[36mFile \u001B[39m\u001B[32m~/miniconda3/envs/docsoc-25/lib/python3.11/site-packages/numpy/distutils/mingw32ccompiler.py:27\u001B[39m\n\u001B[32m     25\u001B[39m \u001B[38;5;28;01mimport\u001B[39;00m\u001B[38;5;250m \u001B[39m\u001B[34;01mdistutils\u001B[39;00m\u001B[34;01m.\u001B[39;00m\u001B[34;01mcygwinccompiler\u001B[39;00m\n\u001B[32m     26\u001B[39m \u001B[38;5;28;01mfrom\u001B[39;00m\u001B[38;5;250m \u001B[39m\u001B[34;01mdistutils\u001B[39;00m\u001B[34;01m.\u001B[39;00m\u001B[34;01munixccompiler\u001B[39;00m\u001B[38;5;250m \u001B[39m\u001B[38;5;28;01mimport\u001B[39;00m UnixCCompiler\n\u001B[32m---> \u001B[39m\u001B[32m27\u001B[39m \u001B[38;5;28;01mfrom\u001B[39;00m\u001B[38;5;250m \u001B[39m\u001B[34;01mdistutils\u001B[39;00m\u001B[34;01m.\u001B[39;00m\u001B[34;01mmsvccompiler\u001B[39;00m\u001B[38;5;250m \u001B[39m\u001B[38;5;28;01mimport\u001B[39;00m get_build_version \u001B[38;5;28;01mas\u001B[39;00m get_build_msvc_version\n\u001B[32m     28\u001B[39m \u001B[38;5;28;01mfrom\u001B[39;00m\u001B[38;5;250m \u001B[39m\u001B[34;01mdistutils\u001B[39;00m\u001B[34;01m.\u001B[39;00m\u001B[34;01merrors\u001B[39;00m\u001B[38;5;250m \u001B[39m\u001B[38;5;28;01mimport\u001B[39;00m UnknownFileError\n\u001B[32m     29\u001B[39m \u001B[38;5;28;01mfrom\u001B[39;00m\u001B[38;5;250m \u001B[39m\u001B[34;01mnumpy\u001B[39;00m\u001B[34;01m.\u001B[39;00m\u001B[34;01mdistutils\u001B[39;00m\u001B[34;01m.\u001B[39;00m\u001B[34;01mmisc_util\u001B[39;00m\u001B[38;5;250m \u001B[39m\u001B[38;5;28;01mimport\u001B[39;00m (msvc_runtime_library,\n\u001B[32m     30\u001B[39m                                        msvc_runtime_version,\n\u001B[32m     31\u001B[39m                                        msvc_runtime_major,\n\u001B[32m     32\u001B[39m                                        get_build_architecture)\n",
      "\u001B[31mModuleNotFoundError\u001B[39m: No module named 'distutils.msvccompiler'"
     ]
    }
   ],
   "execution_count": 3
  },
  {
   "cell_type": "markdown",
   "metadata": {},
   "source": [
    "## Reading the data\n",
    "\n",
    "Find a utility class below to read the data for you."
   ]
  },
  {
   "cell_type": "code",
   "metadata": {
    "ExecuteTime": {
     "end_time": "2025-10-07T13:15:06.512257Z",
     "start_time": "2025-10-07T13:15:06.503252Z"
    }
   },
   "source": [
    "import csv\n",
    "from typing import List, Dict, Any, Optional\n",
    "from pathlib import Path\n",
    "\n",
    "RESPONSE_ID_FIELD_NAME = \"ResponseId\"\n",
    "QUESTION_ID_FIELD_NAME = \"qid\"\n",
    "\n",
    "class SurveyDataReader:\n",
    "    \"\"\"\n",
    "    Read and process Stack Overflow Developer Survey data.\n",
    "    \"\"\"\n",
    "\n",
    "    def __init__(self, schema_file: str, data_file: str):\n",
    "        self.schema = self._parse_schema(schema_file)\n",
    "        self.data = self._parse_data(data_file)\n",
    "\n",
    "    def _parse_schema(self, schema_file: str) -> List[Dict[str, str]]:\n",
    "        schema = []\n",
    "        schema_path = Path(schema_file).resolve()\n",
    "        with open(schema_path, mode=\"r\") as file:\n",
    "            reader = csv.DictReader(file)\n",
    "            schema = [row for row in reader]\n",
    "        return schema\n",
    "\n",
    "    def _parse_data(self, data_file: str) -> List[Dict[str, Any]]:\n",
    "        data = []\n",
    "        data_path = Path(data_file).resolve()\n",
    "        with open(data_path, mode=\"r\") as file:\n",
    "            reader = csv.DictReader(file)\n",
    "            data = [row for row in reader]\n",
    "        return data\n",
    "\n",
    "    def get_schema(self) -> List[Dict[str, str]]:\n",
    "        return self.schema\n",
    "\n",
    "    def get_data(self) -> List[Dict[str, Any]]:\n",
    "        return self.data\n",
    "\n",
    "    def get_question_by_id(self, qid: str) -> Optional[Dict[str, str]]:\n",
    "        for question in self.schema:\n",
    "            if question[QUESTION_ID_FIELD_NAME] == qid:\n",
    "                return question\n",
    "        return None\n",
    "\n",
    "    def get_responses_for_question(self, qname: str) -> List[Any]:\n",
    "        return [response[qname] for response in self.data if qname in response]\n",
    "\n",
    "    def get_response_by_id(self, response_id: str | int) -> Optional[Dict[str, Any]]:\n",
    "        response_id_str = str(response_id)\n",
    "        for response in self.data:\n",
    "            if response[RESPONSE_ID_FIELD_NAME] == response_id_str:\n",
    "                return response\n",
    "        return None"
   ],
   "outputs": [],
   "execution_count": 4
  },
  {
   "cell_type": "markdown",
   "metadata": {},
   "source": [
    "## Getting to know the data reader"
   ]
  },
  {
   "cell_type": "code",
   "metadata": {
    "ExecuteTime": {
     "end_time": "2025-10-07T13:15:12.098552Z",
     "start_time": "2025-10-07T13:15:10.326877Z"
    }
   },
   "source": [
    "SURVEY_SUBDIR = \"stack-overflow-developer-survey-2025\"\n",
    "SCHEMA_RELATIVE_PATH = f\"{SURVEY_SUBDIR}/survey_results_schema.csv\"\n",
    "DATA_RELATIVE_PATH = f\"{SURVEY_SUBDIR}/survey_results_public_cleaned.csv\"\n",
    "\n",
    "reader = SurveyDataReader(SCHEMA_RELATIVE_PATH, DATA_RELATIVE_PATH)"
   ],
   "outputs": [],
   "execution_count": 5
  },
  {
   "cell_type": "code",
   "metadata": {
    "ExecuteTime": {
     "end_time": "2025-10-07T13:15:13.540209Z",
     "start_time": "2025-10-07T13:15:13.530900Z"
    }
   },
   "source": [
    "#print(reader.get_schema())\n",
    "\n",
    "#print(len(reader.get_data()))\n",
    "\n",
    "print(reader.get_data()[0:10]) # Be careful when trying to output the data, there's lots of it!"
   ],
   "outputs": [
    {
     "name": "stdout",
     "output_type": "stream",
     "text": [
      "[{'ResponseId': '1', 'MainBranch': 'I am a developer by profession', 'Age': '25-34 years old', 'EdLevel': 'Master’s degree (M.A., M.S., M.Eng., MBA, etc.)', 'Employment': 'Employed', 'EmploymentAddl': 'Caring for dependents (children, elderly, etc.)', 'WorkExp': '8', 'LearnCodeChoose': 'Yes, I am not new to coding but am learning new coding techniques or programming language', 'LearnCode': 'Online Courses or Certification (includes all media types);Other online resources (e.g. standard search, forum, online community)', 'LearnCodeAI': 'Yes, I learned how to use AI-enabled tools for my personal curiosity and/or hobbies', 'AILearnHow': 'AI CodeGen tools or AI-enabled apps', 'YearsCode': '14', 'DevType': 'Developer, mobile', 'OrgSize': '20 to 99 employees', 'ICorPM': 'People manager', 'RemoteWork': 'Remote', 'PurchaseInfluence': 'Yes, I influenced the purchase of a substantial addition to the tech stack', 'TechEndorseIntro': 'Work', 'TechEndorse_1': '10', 'TechEndorse_2': '7', 'TechEndorse_3': '9', 'TechEndorse_4': '6', 'TechEndorse_5': '3', 'TechEndorse_6': '11', 'TechEndorse_7': '12', 'TechEndorse_8': '1', 'TechEndorse_9': '8', 'TechEndorse_13': '14', 'TechEndorse_13_TEXT': 'NA', 'TechOppose_1': '15', 'TechOppose_2': '7', 'TechOppose_3': '8', 'TechOppose_5': '12', 'TechOppose_7': '11', 'TechOppose_9': '1', 'TechOppose_11': '6', 'TechOppose_13': '13', 'TechOppose_16': '3', 'TechOppose_15': '16', 'TechOppose_15_TEXT': 'NA', 'Industry': 'Fintech', 'JobSatPoints_1': '3', 'JobSatPoints_4': '9', 'JobSatPoints_5': '5', 'JobSatPoints_6': '10', 'JobSatPoints_7': '12', 'JobSatPoints_8': '11', 'JobSatPoints_9': '2', 'JobSatPoints_10': '6', 'JobSatPoints_11': '7', 'JobSatPoints_13': '13', 'JobSatPoints_14': '14', 'JobSatPoints_15': '15', 'JobSatPoints_16': '8', 'JobSatPoints_15_TEXT': 'NA', 'AIThreat': \"I'm not sure\", 'NewRole': 'I have neither consider or transitioned into a new career or industry', 'ToolCountWork': '7', 'ToolCountPersonal': '3', 'Country': 'Ukraine', 'Currency': 'EUR European Euro', 'CompTotal': '52800', 'LanguageChoice': 'Yes', 'LanguageHaveWorkedWith': 'Bash/Shell (all shells);Dart;SQL', 'LanguageWantToWorkWith': 'NA', 'LanguageAdmired': 'Dart', 'LanguagesHaveEntry': 'NA', 'LanguagesWantEntry': 'NA', 'DatabaseChoice': 'Yes', 'DatabaseHaveWorkedWith': 'NA', 'DatabaseWantToWorkWith': 'NA', 'DatabaseAdmired': 'NA', 'DatabaseHaveEntry': 'NA', 'DatabaseWantEntry': 'NA', 'PlatformChoice': 'Yes', 'PlatformHaveWorkedWith': 'NA', 'PlatformWantToWorkWith': 'NA', 'PlatformAdmired': 'NA', 'PlatformHaveEntry': 'NA', 'PlatformWantEntry': 'NA', 'WebframeChoice': 'No', 'WebframeHaveWorkedWith': 'NA', 'WebframeWantToWorkWith': 'NA', 'WebframeAdmired': 'NA', 'WebframeHaveEntry': 'NA', 'WebframeWantEntry': 'NA', 'DevEnvsChoice': 'Yes', 'DevEnvsHaveWorkedWith': 'NA', 'DevEnvsWantToWorkWith': 'NA', 'DevEnvsAdmired': 'NA', 'DevEnvHaveEntry': 'NA', 'DevEnvWantEntry': 'NA', 'SOTagsHaveWorkedWith': 'NA', 'SOTagsWantToWorkWith': 'NA', 'SOTagsAdmired': 'NA', 'SOTagsHaveEntry': 'NA', 'SOTagsWant Entry': 'NA', 'OpSysPersonal use': 'Windows;MacOS;Android', 'OpSysProfessional use': 'Windows;MacOS;Android;iOS;iPadOS', 'OfficeStackAsyncHaveWorkedWith': 'NA', 'OfficeStackAsyncWantToWorkWith': 'NA', 'OfficeStackAsyncAdmired': 'Markdown File', 'OfficeStackHaveEntry': 'NA', 'OfficeStackWantEntry': 'NA', 'CommPlatformHaveWorkedWith': 'NA', 'CommPlatformWantToWorkWith': 'NA', 'CommPlatformAdmired': 'NA', 'CommPlatformHaveEntr': 'NA', 'CommPlatformWantEntr': 'NA', 'AIModelsChoice': 'Yes', 'AIModelsHaveWorkedWith': 'NA', 'AIModelsWantToWorkWith': 'NA', 'AIModelsAdmired': 'NA', 'AIModelsHaveEntry': 'NA', 'AIModelsWantEntry': 'NA', 'SOAccount': 'Yes', 'SOVisitFreq': 'A few times per week', 'SODuration': 'Between 5 and 10 years', 'SOPartFreq': 'I have never participated in Q&A on Stack Overflow', 'SO_Dev_Content': 'NA', 'SO_Actions_1': '1', 'SO_Actions_16': 'NA', 'SO_Actions_3': '6', 'SO_Actions_4': '2', 'SO_Actions_5': '3', 'SO_Actions_6': '7', 'SO_Actions_9': '8', 'SO_Actions_7': '9', 'SO_Actions_10': '11', 'SO_Actions_15': '15', 'SO_Actions_15_TEXT': 'NA', 'SOComm': 'Neutral', 'SOFriction': 'Rarely, almost never', 'AISelect': 'Yes, I use AI tools monthly or infrequently', 'AISent': 'Indifferent', 'AIAcc': 'Neither trust nor distrust', 'AIComplex': 'Bad at handling complex tasks', 'AIToolCurrently partially AI': 'Learning about a codebase;Writing code;Search for answers', \"AIToolDon't plan to use AI for this task\": 'Project planning;Deployment and monitoring;Learning new concepts or technologies', 'AIToolPlan to partially use AI': 'Documenting code;Debugging or fixing code;Testing code;Committing and reviewing code;Predictive analytics;Generating content or synthetic data;Creating or maintaining documentation', 'AIToolPlan to mostly use AI': 'NA', 'AIToolCurrently mostly AI': 'NA', 'AIFrustration': 'AI solutions that are almost right, but not quite', 'AIExplain': 'NA', 'AIAgents': 'Yes, I use AI agents at work monthly or infrequently', 'AIAgentChange': 'Not at all or minimally', 'AIAgent_Uses': 'Software engineering', 'AgentUsesGeneral': 'NA', 'AIAgentImpactSomewhat agree': 'AI agents have increased my productivity.;AI agents have reduced the time spent on specific development tasks.', 'AIAgentImpactNeutral': 'AI agents have helped me automate repetitive tasks.;AI agents have improved the quality of my code.;AI agents have accelerated my learning about new technologies or codebases.;AI agents have helped me solve complex problems more effectively.;AI agents have improved collaboration within my team.', 'AIAgentImpactSomewhat disagree': 'NA', 'AIAgentImpactStrongly agree': 'NA', 'AIAgentImpactStrongly disagree': 'NA', 'AIAgentChallengesNeutral': 'I am concerned about the accuracy of the information provided by AI agents.;It takes significant time and effort to learn how to use AI agents effectively.', 'AIAgentChallengesSomewhat disagree': \"Integrating AI agents with my existing tools and workflows can be difficult.;My company's IT and/or InfoSec teams have strict rules that do not allow me to use AI agent tools or platforms\", 'AIAgentChallengesStrongly agree': 'The cost of using certain AI agent platforms is a barrier.;I have concerns about the security and privacy of data when using AI agents.', 'AIAgentChallengesSomewhat agree': 'NA', 'AIAgentChallengesStrongly disagree': 'NA', 'AIAgentKnowledge': 'NA', 'AIAgentKnowWrite': 'NA', 'AIAgentOrchestration': 'Vertex AI', 'AIAgentOrchWrite': 'NA', 'AIAgentObserveSecure': 'NA', 'AIAgentObsWrite': 'NA', 'AIAgentExternal': 'ChatGPT', 'AIAgentExtWrite': 'NA', 'AIHuman': 'When I don’t trust AI’s answers', 'AIOpen': 'NA', 'ConvertedCompYearly': '61256', 'JobSat': '10'}, {'ResponseId': '2', 'MainBranch': 'I am a developer by profession', 'Age': '25-34 years old', 'EdLevel': 'Associate degree (A.A., A.S., etc.)', 'Employment': 'Employed', 'EmploymentAddl': 'NA', 'WorkExp': '2', 'LearnCodeChoose': 'Yes, I am not new to coding but am learning new coding techniques or programming language', 'LearnCode': 'Online Courses or Certification (includes all media types);Other online resources (e.g. standard search, forum, online community);Books / Physical media;Videos (not associated with specific online course or certification);Stack Overflow or Stack Exchange', 'LearnCodeAI': 'Yes, I learned how to use AI-enabled tools for my personal curiosity and/or hobbies', 'AILearnHow': 'AI CodeGen tools or AI-enabled apps', 'YearsCode': '10', 'DevType': 'Developer, back-end', 'OrgSize': '500 to 999 employees', 'ICorPM': 'Individual contributor', 'RemoteWork': 'Hybrid (some in-person, leans heavy to flexibility)', 'PurchaseInfluence': 'No', 'TechEndorseIntro': 'Personal Project', 'TechEndorse_1': '13', 'TechEndorse_2': '1', 'TechEndorse_3': '2', 'TechEndorse_4': '9', 'TechEndorse_5': '4', 'TechEndorse_6': '3', 'TechEndorse_7': '12', 'TechEndorse_8': '5', 'TechEndorse_9': '7', 'TechEndorse_13': '14', 'TechEndorse_13_TEXT': 'NA', 'TechOppose_1': '14', 'TechOppose_2': '1', 'TechOppose_3': '13', 'TechOppose_5': '10', 'TechOppose_7': '9', 'TechOppose_9': '3', 'TechOppose_11': '4', 'TechOppose_13': '2', 'TechOppose_16': '5', 'TechOppose_15': '15', 'TechOppose_15_TEXT': 'NA', 'Industry': 'Retail and Consumer Services', 'JobSatPoints_1': '10', 'JobSatPoints_4': '9', 'JobSatPoints_5': '12', 'JobSatPoints_6': '1', 'JobSatPoints_7': '6', 'JobSatPoints_8': '2', 'JobSatPoints_9': '11', 'JobSatPoints_10': '4', 'JobSatPoints_11': '7', 'JobSatPoints_13': '13', 'JobSatPoints_14': '14', 'JobSatPoints_15': '15', 'JobSatPoints_16': '5', 'JobSatPoints_15_TEXT': 'NA', 'AIThreat': \"I'm not sure\", 'NewRole': 'I have transitioned into a new career and/or industry voluntarily', 'ToolCountWork': '6', 'ToolCountPersonal': '5', 'Country': 'Netherlands', 'Currency': 'EUR European Euro', 'CompTotal': '90000', 'LanguageChoice': 'Yes', 'LanguageHaveWorkedWith': 'Java', 'LanguageWantToWorkWith': 'NA', 'LanguageAdmired': 'Java', 'LanguagesHaveEntry': 'NA', 'LanguagesWantEntry': 'NA', 'DatabaseChoice': 'Yes', 'DatabaseHaveWorkedWith': 'NA', 'DatabaseWantToWorkWith': 'NA', 'DatabaseAdmired': 'Dynamodb;MongoDB', 'DatabaseHaveEntry': 'NA', 'DatabaseWantEntry': 'NA', 'PlatformChoice': 'Yes', 'PlatformHaveWorkedWith': 'NA', 'PlatformWantToWorkWith': 'NA', 'PlatformAdmired': 'Amazon Web Services (AWS);Datadog;Docker;Homebrew;Kubernetes;Maven (build tool);Terraform', 'PlatformHaveEntry': 'NA', 'PlatformWantEntry': 'NA', 'WebframeChoice': 'Yes', 'WebframeHaveWorkedWith': 'NA', 'WebframeWantToWorkWith': 'NA', 'WebframeAdmired': 'Spring Boot', 'WebframeHaveEntry': 'NA', 'WebframeWantEntry': 'NA', 'DevEnvsChoice': 'Yes', 'DevEnvsHaveWorkedWith': 'NA', 'DevEnvsWantToWorkWith': 'NA', 'DevEnvsAdmired': 'IntelliJ IDEA;PyCharm;Visual Studio Code;Xcode', 'DevEnvHaveEntry': 'NA', 'DevEnvWantEntry': 'NA', 'SOTagsHaveWorkedWith': 'NA', 'SOTagsWantToWorkWith': 'NA', 'SOTagsAdmired': 'NA', 'SOTagsHaveEntry': 'NA', 'SOTagsWant Entry': 'NA', 'OpSysPersonal use': 'Windows;MacOS;iOS;iPadOS', 'OpSysProfessional use': 'MacOS', 'OfficeStackAsyncHaveWorkedWith': 'NA', 'OfficeStackAsyncWantToWorkWith': 'NA', 'OfficeStackAsyncAdmired': 'Confluence;GitHub;Jira', 'OfficeStackHaveEntry': 'NA', 'OfficeStackWantEntry': 'NA', 'CommPlatformHaveWorkedWith': 'NA', 'CommPlatformWantToWorkWith': 'NA', 'CommPlatformAdmired': 'Stack Overflow;Discord;Reddit;Dev.to;Hacker News;GitHub (public projects, not private repos);Slack (public channels, not work);YouTube;Twitch;LinkedIn;Substack;Medium', 'CommPlatformHaveEntr': 'NA', 'CommPlatformWantEntr': 'NA', 'AIModelsChoice': 'Yes', 'AIModelsHaveWorkedWith': 'NA', 'AIModelsWantToWorkWith': 'NA', 'AIModelsAdmired': 'openAI GPT (chatbot models)', 'AIModelsHaveEntry': 'NA', 'AIModelsWantEntry': 'NA', 'SOAccount': \"Not sure/can't remember\", 'SOVisitFreq': 'Multiple times per day', 'SODuration': 'Between 10 and 15 years', 'SOPartFreq': 'Infrequently, less than once per year', 'SO_Dev_Content': 'Chat (people);Message Boards;Long-form articles;Videos;Coding challenges;Logic games/puzzles;Lists of recommendations (tools, frameworks, technologies, etc.);Direct messaging of users;Job board;Day-in-the-life profiles/interviews with experts', 'SO_Actions_1': '6', 'SO_Actions_16': 'NA', 'SO_Actions_3': '5', 'SO_Actions_4': '8', 'SO_Actions_5': '2', 'SO_Actions_6': '4', 'SO_Actions_9': '9', 'SO_Actions_7': '10', 'SO_Actions_10': '11', 'SO_Actions_15': '15', 'SO_Actions_15_TEXT': 'NA', 'SOComm': 'Yes, somewhat', 'SOFriction': 'About half of the time', 'AISelect': 'Yes, I use AI tools weekly', 'AISent': 'Indifferent', 'AIAcc': 'Neither trust nor distrust', 'AIComplex': 'Bad at handling complex tasks', 'AIToolCurrently partially AI': 'Learning new concepts or technologies', \"AIToolDon't plan to use AI for this task\": 'Learning about a codebase;Project planning;Committing and reviewing code;Deployment and monitoring', 'AIToolPlan to partially use AI': 'Writing code;Documenting code;Debugging or fixing code;Testing code;Predictive analytics;Search for answers;Generating content or synthetic data;Creating or maintaining documentation', 'AIToolPlan to mostly use AI': 'NA', 'AIToolCurrently mostly AI': 'NA', 'AIFrustration': 'AI solutions that are almost right, but not quite;Debugging AI-generated code is more time-consuming', 'AIExplain': 'NA', 'AIAgents': \"No, and I don't plan to\", 'AIAgentChange': 'Not at all or minimally', 'AIAgent_Uses': 'NA', 'AgentUsesGeneral': 'NA', 'AIAgentImpactSomewhat agree': 'NA', 'AIAgentImpactNeutral': 'NA', 'AIAgentImpactSomewhat disagree': 'NA', 'AIAgentImpactStrongly agree': 'NA', 'AIAgentImpactStrongly disagree': 'NA', 'AIAgentChallengesNeutral': 'It takes significant time and effort to learn how to use AI agents effectively.;The cost of using certain AI agent platforms is a barrier.', 'AIAgentChallengesSomewhat disagree': 'NA', 'AIAgentChallengesStrongly agree': 'I am concerned about the accuracy of the information provided by AI agents.;I have concerns about the security and privacy of data when using AI agents.', 'AIAgentChallengesSomewhat agree': \"Integrating AI agents with my existing tools and workflows can be difficult.;My company's IT and/or InfoSec teams have strict rules that do not allow me to use AI agent tools or platforms\", 'AIAgentChallengesStrongly disagree': 'NA', 'AIAgentKnowledge': 'NA', 'AIAgentKnowWrite': 'NA', 'AIAgentOrchestration': 'NA', 'AIAgentOrchWrite': 'NA', 'AIAgentObserveSecure': 'NA', 'AIAgentObsWrite': 'NA', 'AIAgentExternal': 'NA', 'AIAgentExtWrite': 'NA', 'AIHuman': 'When I don’t trust AI’s answers;When I want to fully understand something;When I want to learn best practices;When I want to compare different solutions;When I have ethical or security concerns about code', 'AIOpen': 'NA', 'ConvertedCompYearly': '104413', 'JobSat': '9'}, {'ResponseId': '3', 'MainBranch': 'I am a developer by profession', 'Age': '35-44 years old', 'EdLevel': 'Bachelor’s degree (B.A., B.S., B.Eng., etc.)', 'Employment': 'Independent contractor, freelancer, or self-employed', 'EmploymentAddl': 'None of the above', 'WorkExp': '10', 'LearnCodeChoose': 'Yes, I am not new to coding but am learning new coding techniques or programming language', 'LearnCode': 'Online Courses or Certification (includes all media types);Videos (not associated with specific online course or certification);Technical documentation (is generated for/by the tool or system)', 'LearnCodeAI': 'Yes, I learned how to use AI-enabled tools for my personal curiosity and/or hobbies', 'AILearnHow': 'AI CodeGen tools or AI-enabled apps;Technical documentation (is generated for/by the tool or system);Videos (not associated with specific online course or certification)', 'YearsCode': '12', 'DevType': 'Developer, front-end', 'OrgSize': 'NA', 'ICorPM': 'NA', 'RemoteWork': 'NA', 'PurchaseInfluence': 'No', 'TechEndorseIntro': 'Work', 'TechEndorse_1': '12', 'TechEndorse_2': '2', 'TechEndorse_3': '3', 'TechEndorse_4': '7', 'TechEndorse_5': '5', 'TechEndorse_6': '10', 'TechEndorse_7': '13', 'TechEndorse_8': '1', 'TechEndorse_9': '4', 'TechEndorse_13': '14', 'TechEndorse_13_TEXT': 'NA', 'TechOppose_1': '8', 'TechOppose_2': '1', 'TechOppose_3': '2', 'TechOppose_5': '12', 'TechOppose_7': '13', 'TechOppose_9': '3', 'TechOppose_11': '9', 'TechOppose_13': '4', 'TechOppose_16': '11', 'TechOppose_15': '15', 'TechOppose_15_TEXT': 'NA', 'Industry': 'Software Development', 'JobSatPoints_1': '9', 'JobSatPoints_4': '11', 'JobSatPoints_5': '8', 'JobSatPoints_6': '12', 'JobSatPoints_7': '1', 'JobSatPoints_8': '5', 'JobSatPoints_9': '2', 'JobSatPoints_10': '4', 'JobSatPoints_11': '3', 'JobSatPoints_13': '13', 'JobSatPoints_14': '14', 'JobSatPoints_15': '15', 'JobSatPoints_16': '10', 'JobSatPoints_15_TEXT': 'NA', 'AIThreat': 'No', 'NewRole': 'I have transitioned into a new career and/or industry involuntarily', 'ToolCountWork': '3', 'ToolCountPersonal': '3', 'Country': 'Ukraine', 'Currency': 'UAH Ukrainian hryvnia', 'CompTotal': '2214000', 'LanguageChoice': 'Yes', 'LanguageHaveWorkedWith': 'Dart;HTML/CSS;JavaScript;TypeScript', 'LanguageWantToWorkWith': 'NA', 'LanguageAdmired': 'Dart;HTML/CSS;JavaScript;TypeScript', 'LanguagesHaveEntry': 'NA', 'LanguagesWantEntry': 'NA', 'DatabaseChoice': 'Yes', 'DatabaseHaveWorkedWith': 'NA', 'DatabaseWantToWorkWith': 'NA', 'DatabaseAdmired': 'MongoDB', 'DatabaseHaveEntry': 'NA', 'DatabaseWantEntry': 'NA', 'PlatformChoice': 'Yes', 'PlatformHaveWorkedWith': 'NA', 'PlatformWantToWorkWith': 'NA', 'PlatformAdmired': 'Firebase;npm;pnpm', 'PlatformHaveEntry': 'NA', 'PlatformWantEntry': 'NA', 'WebframeChoice': 'Yes', 'WebframeHaveWorkedWith': 'NA', 'WebframeWantToWorkWith': 'NA', 'WebframeAdmired': 'Next.js;Node.js;React', 'WebframeHaveEntry': 'NA', 'WebframeWantEntry': 'NA', 'DevEnvsChoice': 'Yes', 'DevEnvsHaveWorkedWith': 'NA', 'DevEnvsWantToWorkWith': 'NA', 'DevEnvsAdmired': 'Visual Studio Code', 'DevEnvHaveEntry': 'NA', 'DevEnvWantEntry': 'NA', 'SOTagsHaveWorkedWith': 'NA', 'SOTagsWantToWorkWith': 'NA', 'SOTagsAdmired': 'Google Gemini', 'SOTagsHaveEntry': 'NA', 'SOTagsWant Entry': 'NA', 'OpSysPersonal use': 'MacOS;Android', 'OpSysProfessional use': 'MacOS', 'OfficeStackAsyncHaveWorkedWith': 'NA', 'OfficeStackAsyncWantToWorkWith': 'NA', 'OfficeStackAsyncAdmired': 'GitHub;GitLab;Jira', 'OfficeStackHaveEntry': 'NA', 'OfficeStackWantEntry': 'NA', 'CommPlatformHaveWorkedWith': 'NA', 'CommPlatformWantToWorkWith': 'NA', 'CommPlatformAdmired': 'Stack Overflow;Discord;Dev.to;X;YouTube;LinkedIn', 'CommPlatformHaveEntr': 'NA', 'CommPlatformWantEntr': 'NA', 'AIModelsChoice': 'Yes', 'AIModelsHaveWorkedWith': 'NA', 'AIModelsWantToWorkWith': 'NA', 'AIModelsAdmired': 'Gemini (Flash general purpose models);openAI GPT (chatbot models)', 'AIModelsHaveEntry': 'NA', 'AIModelsWantEntry': 'NA', 'SOAccount': \"Not sure/can't remember\", 'SOVisitFreq': 'A few times per week', 'SODuration': 'Between 5 and 10 years', 'SOPartFreq': 'Infrequently, less than once per year', 'SO_Dev_Content': 'Chat (people);Videos;Lists of recommendations (tools, frameworks, technologies, etc.);Chat (bot/AI)', 'SO_Actions_1': '3', 'SO_Actions_16': 'NA', 'SO_Actions_3': '4', 'SO_Actions_4': '5', 'SO_Actions_5': '1', 'SO_Actions_6': '2', 'SO_Actions_9': '7', 'SO_Actions_7': '9', 'SO_Actions_10': '11', 'SO_Actions_15': '15', 'SO_Actions_15_TEXT': 'NA', 'SOComm': 'Neutral', 'SOFriction': 'About half of the time', 'AISelect': 'Yes, I use AI tools daily', 'AISent': 'Favorable', 'AIAcc': 'Somewhat trust', 'AIComplex': 'Neither good or bad at handling complex tasks', 'AIToolCurrently partially AI': 'Documenting code;Debugging or fixing code;Testing code;Creating or maintaining documentation;Learning new concepts or technologies', \"AIToolDon't plan to use AI for this task\": 'NA', 'AIToolPlan to partially use AI': 'Project planning;Committing and reviewing code;Deployment and monitoring;Predictive analytics;Search for answers', 'AIToolPlan to mostly use AI': 'Learning about a codebase;Writing code;Generating content or synthetic data', 'AIToolCurrently mostly AI': 'NA', 'AIFrustration': 'AI solutions that are almost right, but not quite;Debugging AI-generated code is more time-consuming', 'AIExplain': 'NA', 'AIAgents': 'Yes, I use AI agents at work weekly', 'AIAgentChange': 'Yes, somewhat', 'AIAgent_Uses': 'Software engineering', 'AgentUsesGeneral': 'Multi-platform search enablement', 'AIAgentImpactSomewhat agree': 'AI agents have increased my productivity.;AI agents have helped me automate repetitive tasks.;AI agents have accelerated my learning about new technologies or codebases.;AI agents have reduced the time spent on specific development tasks.', 'AIAgentImpactNeutral': 'AI agents have improved the quality of my code.;AI agents have helped me solve complex problems more effectively.', 'AIAgentImpactSomewhat disagree': 'AI agents have improved collaboration within my team.', 'AIAgentImpactStrongly agree': 'NA', 'AIAgentImpactStrongly disagree': 'NA', 'AIAgentChallengesNeutral': 'It takes significant time and effort to learn how to use AI agents effectively.;The cost of using certain AI agent platforms is a barrier.', 'AIAgentChallengesSomewhat disagree': \"My company's IT and/or InfoSec teams have strict rules that do not allow me to use AI agent tools or platforms\", 'AIAgentChallengesStrongly agree': 'NA', 'AIAgentChallengesSomewhat agree': 'I am concerned about the accuracy of the information provided by AI agents.;Integrating AI agents with my existing tools and workflows can be difficult.;I have concerns about the security and privacy of data when using AI agents.', 'AIAgentChallengesStrongly disagree': 'NA', 'AIAgentKnowledge': 'Redis', 'AIAgentKnowWrite': 'NA', 'AIAgentOrchestration': 'NA', 'AIAgentOrchWrite': 'NA', 'AIAgentObserveSecure': 'NA', 'AIAgentObsWrite': 'NA', 'AIAgentExternal': 'ChatGPT;Claude Code;GitHub Copilot;Google Gemini', 'AIAgentExtWrite': 'NA', 'AIHuman': 'When I don’t trust AI’s answers;When I want to fully understand something;When I want to learn best practices;When I have ethical or security concerns about code;When I’m stuck and can’t explain the problem', 'AIOpen': 'NA', 'ConvertedCompYearly': '53061', 'JobSat': '8'}, {'ResponseId': '4', 'MainBranch': 'I am a developer by profession', 'Age': '35-44 years old', 'EdLevel': 'Bachelor’s degree (B.A., B.S., B.Eng., etc.)', 'Employment': 'Employed', 'EmploymentAddl': 'None of the above', 'WorkExp': '4', 'LearnCodeChoose': 'Yes, I am not new to coding but am learning new coding techniques or programming language', 'LearnCode': 'Other online resources (e.g. standard search, forum, online community);Videos (not associated with specific online course or certification);Stack Overflow or Stack Exchange;Technical documentation (is generated for/by the tool or system);AI CodeGen tools or AI-enabled apps', 'LearnCodeAI': 'Yes, I learned how to use AI-enabled tools for my personal curiosity and/or hobbies', 'AILearnHow': 'AI CodeGen tools or AI-enabled apps;Videos (not associated with specific online course or certification);Other online resources (e.g. standard search, forum, online community)', 'YearsCode': '5', 'DevType': 'Developer, back-end', 'OrgSize': '10,000 or more employees', 'ICorPM': 'Individual contributor', 'RemoteWork': 'Remote', 'PurchaseInfluence': 'No', 'TechEndorseIntro': 'Personal Project', 'TechEndorse_1': '2', 'TechEndorse_2': '12', 'TechEndorse_3': '6', 'TechEndorse_4': '5', 'TechEndorse_5': '13', 'TechEndorse_6': '3', 'TechEndorse_7': '8', 'TechEndorse_8': '11', 'TechEndorse_9': '7', 'TechEndorse_13': '14', 'TechEndorse_13_TEXT': 'NA', 'TechOppose_1': '10', 'TechOppose_2': '5', 'TechOppose_3': '8', 'TechOppose_5': '4', 'TechOppose_7': '13', 'TechOppose_9': '12', 'TechOppose_11': '2', 'TechOppose_13': '7', 'TechOppose_16': '1', 'TechOppose_15': '15', 'TechOppose_15_TEXT': 'NA', 'Industry': 'Retail and Consumer Services', 'JobSatPoints_1': '1', 'JobSatPoints_4': '5', 'JobSatPoints_5': '6', 'JobSatPoints_6': '7', 'JobSatPoints_7': '8', 'JobSatPoints_8': '9', 'JobSatPoints_9': '10', 'JobSatPoints_10': '11', 'JobSatPoints_11': '12', 'JobSatPoints_13': '13', 'JobSatPoints_14': '14', 'JobSatPoints_15': '15', 'JobSatPoints_16': '3', 'JobSatPoints_15_TEXT': 'NA', 'AIThreat': 'No', 'NewRole': 'I have neither consider or transitioned into a new career or industry', 'ToolCountWork': 'NA', 'ToolCountPersonal': 'NA', 'Country': 'Ukraine', 'Currency': 'EUR European Euro', 'CompTotal': '31200', 'LanguageChoice': 'Yes', 'LanguageHaveWorkedWith': 'Java;Kotlin;SQL', 'LanguageWantToWorkWith': 'NA', 'LanguageAdmired': 'Java;Kotlin', 'LanguagesHaveEntry': 'NA', 'LanguagesWantEntry': 'NA', 'DatabaseChoice': 'No', 'DatabaseHaveWorkedWith': 'NA', 'DatabaseWantToWorkWith': 'NA', 'DatabaseAdmired': 'NA', 'DatabaseHaveEntry': 'NA', 'DatabaseWantEntry': 'NA', 'PlatformChoice': 'Yes', 'PlatformHaveWorkedWith': 'NA', 'PlatformWantToWorkWith': 'NA', 'PlatformAdmired': 'Amazon Web Services (AWS);Google Cloud', 'PlatformHaveEntry': 'NA', 'PlatformWantEntry': 'NA', 'WebframeChoice': 'Yes', 'WebframeHaveWorkedWith': 'NA', 'WebframeWantToWorkWith': 'NA', 'WebframeAdmired': 'Spring Boot', 'WebframeHaveEntry': 'NA', 'WebframeWantEntry': 'NA', 'DevEnvsChoice': 'No', 'DevEnvsHaveWorkedWith': 'NA', 'DevEnvsWantToWorkWith': 'NA', 'DevEnvsAdmired': 'NA', 'DevEnvHaveEntry': 'NA', 'DevEnvWantEntry': 'NA', 'SOTagsHaveWorkedWith': 'NA', 'SOTagsWantToWorkWith': 'NA', 'SOTagsAdmired': 'NA', 'SOTagsHaveEntry': 'NA', 'SOTagsWant Entry': 'NA', 'OpSysPersonal use': 'Windows', 'OpSysProfessional use': 'Windows;Ubuntu', 'OfficeStackAsyncHaveWorkedWith': 'NA', 'OfficeStackAsyncWantToWorkWith': 'NA', 'OfficeStackAsyncAdmired': 'GitLab;Jira', 'OfficeStackHaveEntry': 'NA', 'OfficeStackWantEntry': 'NA', 'CommPlatformHaveWorkedWith': 'NA', 'CommPlatformWantToWorkWith': 'NA', 'CommPlatformAdmired': 'Stack Overflow;Reddit;YouTube;LinkedIn', 'CommPlatformHaveEntr': 'NA', 'CommPlatformWantEntr': 'NA', 'AIModelsChoice': 'No', 'AIModelsHaveWorkedWith': 'NA', 'AIModelsWantToWorkWith': 'NA', 'AIModelsAdmired': 'NA', 'AIModelsHaveEntry': 'NA', 'AIModelsWantEntry': 'NA', 'SOAccount': 'Yes', 'SOVisitFreq': 'A few times per month or weekly', 'SODuration': 'Between 3 and 5 years', 'SOPartFreq': 'I have never participated in Q&A on Stack Overflow', 'SO_Dev_Content': 'Videos;Chat (bot/AI)', 'SO_Actions_1': '1', 'SO_Actions_16': 'NA', 'SO_Actions_3': '4', 'SO_Actions_4': '5', 'SO_Actions_5': '6', 'SO_Actions_6': '7', 'SO_Actions_9': '8', 'SO_Actions_7': '9', 'SO_Actions_10': '11', 'SO_Actions_15': '15', 'SO_Actions_15_TEXT': 'NA', 'SOComm': 'Neutral', 'SOFriction': 'Rarely, almost never', 'AISelect': 'Yes, I use AI tools weekly', 'AISent': 'Favorable', 'AIAcc': 'Somewhat trust', 'AIComplex': 'Bad at handling complex tasks', 'AIToolCurrently partially AI': 'NA', \"AIToolDon't plan to use AI for this task\": 'Project planning;Documenting code;Testing code;Committing and reviewing code;Deployment and monitoring;Creating or maintaining documentation', 'AIToolPlan to partially use AI': 'Learning about a codebase;Writing code;Debugging or fixing code;Predictive analytics', 'AIToolPlan to mostly use AI': 'Search for answers;Generating content or synthetic data;Learning new concepts or technologies', 'AIToolCurrently mostly AI': 'NA', 'AIFrustration': 'AI solutions that are almost right, but not quite;I don’t use AI tools regularly', 'AIExplain': 'NA', 'AIAgents': 'Yes, I use AI agents at work monthly or infrequently', 'AIAgentChange': 'Not at all or minimally', 'AIAgent_Uses': 'Software engineering', 'AgentUsesGeneral': 'Language processing', 'AIAgentImpactSomewhat agree': 'AI agents have accelerated my learning about new technologies or codebases.', 'AIAgentImpactNeutral': 'AI agents have increased my productivity.;AI agents have improved the quality of my code.;AI agents have helped me solve complex problems more effectively.;AI agents have reduced the time spent on specific development tasks.;AI agents have improved collaboration within my team.', 'AIAgentImpactSomewhat disagree': 'AI agents have helped me automate repetitive tasks.', 'AIAgentImpactStrongly agree': 'NA', 'AIAgentImpactStrongly disagree': 'NA', 'AIAgentChallengesNeutral': 'It takes significant time and effort to learn how to use AI agents effectively.;The cost of using certain AI agent platforms is a barrier.', 'AIAgentChallengesSomewhat disagree': 'NA', 'AIAgentChallengesStrongly agree': \"I am concerned about the accuracy of the information provided by AI agents.;I have concerns about the security and privacy of data when using AI agents.;My company's IT and/or InfoSec teams have strict rules that do not allow me to use AI agent tools or platforms\", 'AIAgentChallengesSomewhat agree': 'Integrating AI agents with my existing tools and workflows can be difficult.', 'AIAgentChallengesStrongly disagree': 'NA', 'AIAgentKnowledge': 'NA', 'AIAgentKnowWrite': 'NA', 'AIAgentOrchestration': 'NA', 'AIAgentOrchWrite': 'NA', 'AIAgentObserveSecure': 'NA', 'AIAgentObsWrite': 'NA', 'AIAgentExternal': 'ChatGPT;Claude Code', 'AIAgentExtWrite': 'NA', 'AIHuman': 'When I don’t trust AI’s answers;When I want to fully understand something;When I have ethical or security concerns about code;When I’m stuck and can’t explain the problem', 'AIOpen': 'NA', 'ConvertedCompYearly': '36197', 'JobSat': '6'}, {'ResponseId': '5', 'MainBranch': 'I am a developer by profession', 'Age': '35-44 years old', 'EdLevel': 'Master’s degree (M.A., M.S., M.Eng., MBA, etc.)', 'Employment': 'Independent contractor, freelancer, or self-employed', 'EmploymentAddl': 'Caring for dependents (children, elderly, etc.)', 'WorkExp': '21', 'LearnCodeChoose': 'No, I am not new to coding and did not learn new coding techniques or programming languages', 'LearnCode': 'NA', 'LearnCodeAI': 'Yes, I learned how to use AI-enabled tools for my personal curiosity and/or hobbies', 'AILearnHow': 'Technical documentation (is generated for/by the tool or system);Other online resources (e.g. standard search, forum, online community)', 'YearsCode': '22', 'DevType': 'Engineering manager', 'OrgSize': 'NA', 'ICorPM': 'NA', 'RemoteWork': 'NA', 'PurchaseInfluence': 'Yes, I endorsed a tool that was open-source and is currently used by more than just myself but no purchase was made', 'TechEndorseIntro': 'Work', 'TechEndorse_1': '6', 'TechEndorse_2': '3', 'TechEndorse_3': '1', 'TechEndorse_4': '9', 'TechEndorse_5': '10', 'TechEndorse_6': '8', 'TechEndorse_7': '7', 'TechEndorse_8': '4', 'TechEndorse_9': '2', 'TechEndorse_13': '14', 'TechEndorse_13_TEXT': 'NA', 'TechOppose_1': '7', 'TechOppose_2': '13', 'TechOppose_3': '3', 'TechOppose_5': '9', 'TechOppose_7': '12', 'TechOppose_9': '6', 'TechOppose_11': '1', 'TechOppose_13': '8', 'TechOppose_16': '14', 'TechOppose_15': '15', 'TechOppose_15_TEXT': 'NA', 'Industry': 'Software Development', 'JobSatPoints_1': '9', 'JobSatPoints_4': '13', 'JobSatPoints_5': '14', 'JobSatPoints_6': '8', 'JobSatPoints_7': '6', 'JobSatPoints_8': '5', 'JobSatPoints_9': '7', 'JobSatPoints_10': '2', 'JobSatPoints_11': '1', 'JobSatPoints_13': '12', 'JobSatPoints_14': '10', 'JobSatPoints_15': '15', 'JobSatPoints_16': '3', 'JobSatPoints_15_TEXT': 'NA', 'AIThreat': 'No', 'NewRole': 'I have neither consider or transitioned into a new career or industry', 'ToolCountWork': '4', 'ToolCountPersonal': '3', 'Country': 'Ukraine', 'Currency': 'USD United States dollar', 'CompTotal': '60000', 'LanguageChoice': 'Yes', 'LanguageHaveWorkedWith': 'C;C#;C++;Delphi;HTML/CSS;Java;JavaScript;Lua;PowerShell;Python;SQL;TypeScript;VBA;Visual Basic (.Net)', 'LanguageWantToWorkWith': 'NA', 'LanguageAdmired': 'C#;Java;JavaScript;Python;SQL;TypeScript', 'LanguagesHaveEntry': 'NA', 'LanguagesWantEntry': 'NA', 'DatabaseChoice': 'Yes', 'DatabaseHaveWorkedWith': 'NA', 'DatabaseWantToWorkWith': 'NA', 'DatabaseAdmired': 'Elasticsearch;Oracle;PostgreSQL', 'DatabaseHaveEntry': 'NA', 'DatabaseWantEntry': 'NA', 'PlatformChoice': 'Yes', 'PlatformHaveWorkedWith': 'NA', 'PlatformWantToWorkWith': 'NA', 'PlatformAdmired': 'Amazon Web Services (AWS);APT;Docker;Maven (build tool);MSBuild;npm;NuGet;Pip', 'PlatformHaveEntry': 'NA', 'PlatformWantEntry': 'NA', 'WebframeChoice': 'Yes', 'WebframeHaveWorkedWith': 'NA', 'WebframeWantToWorkWith': 'NA', 'WebframeAdmired': 'Angular;ASP.NET Core;Flask', 'WebframeHaveEntry': 'NA', 'WebframeWantEntry': 'NA', 'DevEnvsChoice': 'Yes', 'DevEnvsHaveWorkedWith': 'NA', 'DevEnvsWantToWorkWith': 'NA', 'DevEnvsAdmired': 'IntelliJ IDEA;Jupyter Notebook/JupyterLab;Notepad++;PyCharm;Rider;Visual Studio;WebStorm', 'DevEnvHaveEntry': 'NA', 'DevEnvWantEntry': 'NA', 'SOTagsHaveWorkedWith': 'NA', 'SOTagsWantToWorkWith': 'NA', 'SOTagsAdmired': 'Large Language Model', 'SOTagsHaveEntry': 'NA', 'SOTagsWant Entry': 'NA', 'OpSysPersonal use': 'Windows;iOS', 'OpSysProfessional use': 'Windows;Ubuntu;Debian', 'OfficeStackAsyncHaveWorkedWith': 'NA', 'OfficeStackAsyncWantToWorkWith': 'NA', 'OfficeStackAsyncAdmired': 'Azure Devops;GitHub;Jira', 'OfficeStackHaveEntry': 'NA', 'OfficeStackWantEntry': 'NA', 'CommPlatformHaveWorkedWith': 'NA', 'CommPlatformWantToWorkWith': 'NA', 'CommPlatformAdmired': 'Stack Overflow;Stack Exchange;GitHub (public projects, not private repos)', 'CommPlatformHaveEntr': 'NA', 'CommPlatformWantEntr': 'NA', 'AIModelsChoice': 'Yes', 'AIModelsHaveWorkedWith': 'NA', 'AIModelsWantToWorkWith': 'NA', 'AIModelsAdmired': 'openAI GPT (chatbot models)', 'AIModelsHaveEntry': 'NA', 'AIModelsWantEntry': 'NA', 'SOAccount': 'No', 'SOVisitFreq': 'A few times per month or weekly', 'SODuration': 'Between 5 and 10 years', 'SOPartFreq': 'Infrequently, less than once per year', 'SO_Dev_Content': 'Long-form articles', 'SO_Actions_1': '1', 'SO_Actions_16': 'NA', 'SO_Actions_3': '7', 'SO_Actions_4': '4', 'SO_Actions_5': '2', 'SO_Actions_6': '5', 'SO_Actions_9': '10', 'SO_Actions_7': '6', 'SO_Actions_10': '12', 'SO_Actions_15': '15', 'SO_Actions_15_TEXT': 'NA', 'SOComm': 'No, not really', 'SOFriction': 'Rarely, almost never', 'AISelect': 'Yes, I use AI tools weekly', 'AISent': 'Favorable', 'AIAcc': 'Neither trust nor distrust', 'AIComplex': 'Good, but not great at handling complex tasks', 'AIToolCurrently partially AI': 'Learning about a codebase;Writing code;Debugging or fixing code;Search for answers;Learning new concepts or technologies', \"AIToolDon't plan to use AI for this task\": 'Project planning;Documenting code;Testing code;Committing and reviewing code;Deployment and monitoring;Predictive analytics;Creating or maintaining documentation', 'AIToolPlan to partially use AI': 'Generating content or synthetic data', 'AIToolPlan to mostly use AI': 'NA', 'AIToolCurrently mostly AI': 'NA', 'AIFrustration': 'AI solutions that are almost right, but not quite', 'AIExplain': 'NA', 'AIAgents': \"No, and I don't plan to\", 'AIAgentChange': 'Yes, to a great extent', 'AIAgent_Uses': 'NA', 'AgentUsesGeneral': 'NA', 'AIAgentImpactSomewhat agree': 'NA', 'AIAgentImpactNeutral': 'NA', 'AIAgentImpactSomewhat disagree': 'NA', 'AIAgentImpactStrongly agree': 'NA', 'AIAgentImpactStrongly disagree': 'NA', 'AIAgentChallengesNeutral': \"Integrating AI agents with my existing tools and workflows can be difficult.;My company's IT and/or InfoSec teams have strict rules that do not allow me to use AI agent tools or platforms\", 'AIAgentChallengesSomewhat disagree': 'NA', 'AIAgentChallengesStrongly agree': 'I am concerned about the accuracy of the information provided by AI agents.;I have concerns about the security and privacy of data when using AI agents.', 'AIAgentChallengesSomewhat agree': 'It takes significant time and effort to learn how to use AI agents effectively.;The cost of using certain AI agent platforms is a barrier.', 'AIAgentChallengesStrongly disagree': 'NA', 'AIAgentKnowledge': 'NA', 'AIAgentKnowWrite': 'NA', 'AIAgentOrchestration': 'NA', 'AIAgentOrchWrite': 'NA', 'AIAgentObserveSecure': 'NA', 'AIAgentObsWrite': 'NA', 'AIAgentExternal': 'NA', 'AIAgentExtWrite': 'NA', 'AIHuman': 'When I don’t trust AI’s answers', 'AIOpen': 'NA', 'ConvertedCompYearly': '60000', 'JobSat': '7'}, {'ResponseId': '6', 'MainBranch': 'I am a developer by profession', 'Age': '45-54 years old', 'EdLevel': 'Master’s degree (M.A., M.S., M.Eng., MBA, etc.)', 'Employment': 'Independent contractor, freelancer, or self-employed', 'EmploymentAddl': 'Caring for dependents (children, elderly, etc.);Volunteering (regularly)', 'WorkExp': '15', 'LearnCodeChoose': 'Yes, I am not new to coding but am learning new coding techniques or programming language', 'LearnCode': 'Online Courses or Certification (includes all media types);Other online resources (e.g. standard search, forum, online community);Books / Physical media;Videos (not associated with specific online course or certification);Stack Overflow or Stack Exchange;Technical documentation (is generated for/by the tool or system);AI CodeGen tools or AI-enabled apps;Colleague or on-the-job training;Blogs or podcasts', 'LearnCodeAI': 'Yes, I learned how to use AI-enabled tools required for my job or to benefit my career', 'AILearnHow': 'Technical documentation (is generated for/by the tool or system);Videos (not associated with specific online course or certification);Other online resources (e.g. standard search, forum, online community);Colleague or on-the-job training;Online Courses or Certification (includes all media types);Blogs or podcasts', 'YearsCode': '20', 'DevType': 'Developer, back-end', 'OrgSize': 'NA', 'ICorPM': 'NA', 'RemoteWork': 'NA', 'PurchaseInfluence': 'Yes, I influenced the purchase of a substantial addition to the tech stack', 'TechEndorseIntro': 'Work', 'TechEndorse_1': '12', 'TechEndorse_2': '5', 'TechEndorse_3': '4', 'TechEndorse_4': '6', 'TechEndorse_5': '2', 'TechEndorse_6': '10', 'TechEndorse_7': '3', 'TechEndorse_8': '7', 'TechEndorse_9': '8', 'TechEndorse_13': '14', 'TechEndorse_13_TEXT': 'NA', 'TechOppose_1': '12', 'TechOppose_2': '5', 'TechOppose_3': '13', 'TechOppose_5': '10', 'TechOppose_7': '9', 'TechOppose_9': '1', 'TechOppose_11': '4', 'TechOppose_13': '6', 'TechOppose_16': '2', 'TechOppose_15': '15', 'TechOppose_15_TEXT': 'NA', 'Industry': 'Fintech', 'JobSatPoints_1': '4', 'JobSatPoints_4': '8', 'JobSatPoints_5': '9', 'JobSatPoints_6': '2', 'JobSatPoints_7': '1', 'JobSatPoints_8': '10', 'JobSatPoints_9': '11', 'JobSatPoints_10': '12', 'JobSatPoints_11': '6', 'JobSatPoints_13': '13', 'JobSatPoints_14': '14', 'JobSatPoints_15': '15', 'JobSatPoints_16': '7', 'JobSatPoints_15_TEXT': 'NA', 'AIThreat': \"I'm not sure\", 'NewRole': 'I have somewhat considered changing my career and/or the industry I work in', 'ToolCountWork': '5', 'ToolCountPersonal': '5', 'Country': 'Ukraine', 'Currency': 'USD United States dollar', 'CompTotal': '120000', 'LanguageChoice': 'Yes', 'LanguageHaveWorkedWith': 'Java;Scala', 'LanguageWantToWorkWith': 'NA', 'LanguageAdmired': 'Java;Scala', 'LanguagesHaveEntry': 'NA', 'LanguagesWantEntry': 'NA', 'DatabaseChoice': 'No', 'DatabaseHaveWorkedWith': 'NA', 'DatabaseWantToWorkWith': 'NA', 'DatabaseAdmired': 'NA', 'DatabaseHaveEntry': 'NA', 'DatabaseWantEntry': 'NA', 'PlatformChoice': 'Yes', 'PlatformHaveWorkedWith': 'NA', 'PlatformWantToWorkWith': 'NA', 'PlatformAdmired': 'Amazon Web Services (AWS)', 'PlatformHaveEntry': 'NA', 'PlatformWantEntry': 'NA', 'WebframeChoice': 'Yes', 'WebframeHaveWorkedWith': 'NA', 'WebframeWantToWorkWith': 'NA', 'WebframeAdmired': 'Spring Boot', 'WebframeHaveEntry': 'NA', 'WebframeWantEntry': 'NA', 'DevEnvsChoice': 'Yes', 'DevEnvsHaveWorkedWith': 'NA', 'DevEnvsWantToWorkWith': 'NA', 'DevEnvsAdmired': 'IntelliJ IDEA;Visual Studio Code', 'DevEnvHaveEntry': 'NA', 'DevEnvWantEntry': 'NA', 'SOTagsHaveWorkedWith': 'NA', 'SOTagsWantToWorkWith': 'NA', 'SOTagsAdmired': 'NA', 'SOTagsHaveEntry': 'NA', 'SOTagsWant Entry': 'NA', 'OpSysPersonal use': 'MacOS', 'OpSysProfessional use': 'MacOS', 'OfficeStackAsyncHaveWorkedWith': 'NA', 'OfficeStackAsyncWantToWorkWith': 'NA', 'OfficeStackAsyncAdmired': 'GitHub;Jira', 'OfficeStackHaveEntry': 'NA', 'OfficeStackWantEntry': 'NA', 'CommPlatformHaveWorkedWith': 'NA', 'CommPlatformWantToWorkWith': 'NA', 'CommPlatformAdmired': 'Stack Overflow;Stack Exchange;X;YouTube;LinkedIn;Medium', 'CommPlatformHaveEntr': 'NA', 'CommPlatformWantEntr': 'NA', 'AIModelsChoice': 'No', 'AIModelsHaveWorkedWith': 'NA', 'AIModelsWantToWorkWith': 'NA', 'AIModelsAdmired': 'NA', 'AIModelsHaveEntry': 'NA', 'AIModelsWantEntry': 'NA', 'SOAccount': 'Yes', 'SOVisitFreq': 'A few times per month or weekly', 'SODuration': 'Between 10 and 15 years', 'SOPartFreq': 'Infrequently, less than once per year', 'SO_Dev_Content': 'Lists of recommendations (tools, frameworks, technologies, etc.);Job board;Chat (bot/AI)', 'SO_Actions_1': '6', 'SO_Actions_16': 'NA', 'SO_Actions_3': '9', 'SO_Actions_4': '3', 'SO_Actions_5': '4', 'SO_Actions_6': '5', 'SO_Actions_9': '10', 'SO_Actions_7': '1', 'SO_Actions_10': '11', 'SO_Actions_15': '15', 'SO_Actions_15_TEXT': 'NA', 'SOComm': 'Yes, somewhat', 'SOFriction': 'Rarely, almost never', 'AISelect': 'Yes, I use AI tools daily', 'AISent': 'Indifferent', 'AIAcc': 'Somewhat distrust', 'AIComplex': 'Good, but not great at handling complex tasks', 'AIToolCurrently partially AI': 'Learning about a codebase;Writing code;Documenting code;Search for answers;Generating content or synthetic data;Creating or maintaining documentation', \"AIToolDon't plan to use AI for this task\": 'Predictive analytics', 'AIToolPlan to partially use AI': 'Deployment and monitoring', 'AIToolPlan to mostly use AI': 'Project planning;Debugging or fixing code;Committing and reviewing code', 'AIToolCurrently mostly AI': 'Testing code;Learning new concepts or technologies', 'AIFrustration': 'AI solutions that are almost right, but not quite', 'AIExplain': 'NA', 'AIAgents': 'Yes, I use AI agents at work monthly or infrequently', 'AIAgentChange': 'Not at all or minimally', 'AIAgent_Uses': 'Software engineering;Business process automation;Decision intelligence;IT operations', 'AgentUsesGeneral': 'NA', 'AIAgentImpactSomewhat agree': 'AI agents have increased my productivity.;AI agents have accelerated my learning about new technologies or codebases.;AI agents have helped me solve complex problems more effectively.;AI agents have reduced the time spent on specific development tasks.', 'AIAgentImpactNeutral': 'NA', 'AIAgentImpactSomewhat disagree': 'AI agents have improved the quality of my code.;AI agents have improved collaboration within my team.', 'AIAgentImpactStrongly agree': 'AI agents have helped me automate repetitive tasks.', 'AIAgentImpactStrongly disagree': 'NA', 'AIAgentChallengesNeutral': 'The cost of using certain AI agent platforms is a barrier.', 'AIAgentChallengesSomewhat disagree': 'NA', 'AIAgentChallengesStrongly agree': 'I am concerned about the accuracy of the information provided by AI agents.;I have concerns about the security and privacy of data when using AI agents.', 'AIAgentChallengesSomewhat agree': 'Integrating AI agents with my existing tools and workflows can be difficult.;It takes significant time and effort to learn how to use AI agents effectively.', 'AIAgentChallengesStrongly disagree': \"My company's IT and/or InfoSec teams have strict rules that do not allow me to use AI agent tools or platforms\", 'AIAgentKnowledge': 'NA', 'AIAgentKnowWrite': 'NA', 'AIAgentOrchestration': 'NA', 'AIAgentOrchWrite': 'NA', 'AIAgentObserveSecure': 'NA', 'AIAgentObsWrite': 'NA', 'AIAgentExternal': 'GitHub Copilot', 'AIAgentExtWrite': 'NA', 'AIHuman': 'When I have ethical or security concerns about code', 'AIOpen': 'NA', 'ConvertedCompYearly': '120000', 'JobSat': '7'}, {'ResponseId': '7', 'MainBranch': 'I am a developer by profession', 'Age': '25-34 years old', 'EdLevel': 'Some college/university study without earning a degree', 'Employment': 'Independent contractor, freelancer, or self-employed', 'EmploymentAddl': 'None of the above', 'WorkExp': '9', 'LearnCodeChoose': 'Yes, I am not new to coding but am learning new coding techniques or programming language', 'LearnCode': 'Videos (not associated with specific online course or certification);AI CodeGen tools or AI-enabled apps;Blogs or podcasts', 'LearnCodeAI': 'Yes, I learned how to use AI-enabled tools for my personal curiosity and/or hobbies', 'AILearnHow': 'AI CodeGen tools or AI-enabled apps;Videos (not associated with specific online course or certification);Other online resources (e.g. standard search, forum, online community);Blogs or podcasts', 'YearsCode': '13', 'DevType': 'Developer, full-stack', 'OrgSize': 'NA', 'ICorPM': 'NA', 'RemoteWork': 'NA', 'PurchaseInfluence': 'No', 'TechEndorseIntro': 'Personal Project', 'TechEndorse_1': '11', 'TechEndorse_2': '1', 'TechEndorse_3': '2', 'TechEndorse_4': '6', 'TechEndorse_5': '4', 'TechEndorse_6': '7', 'TechEndorse_7': '13', 'TechEndorse_8': '8', 'TechEndorse_9': '3', 'TechEndorse_13': '14', 'TechEndorse_13_TEXT': 'NA', 'TechOppose_1': '8', 'TechOppose_2': '3', 'TechOppose_3': '14', 'TechOppose_5': '11', 'TechOppose_7': '4', 'TechOppose_9': '1', 'TechOppose_11': '10', 'TechOppose_13': '5', 'TechOppose_16': '13', 'TechOppose_15': '15', 'TechOppose_15_TEXT': 'NA', 'Industry': 'Insurance', 'JobSatPoints_1': '4', 'JobSatPoints_4': '7', 'JobSatPoints_5': '14', 'JobSatPoints_6': '5', 'JobSatPoints_7': '9', 'JobSatPoints_8': '1', 'JobSatPoints_9': '10', 'JobSatPoints_10': '11', 'JobSatPoints_11': '2', 'JobSatPoints_13': '12', 'JobSatPoints_14': '13', 'JobSatPoints_15': '15', 'JobSatPoints_16': '8', 'JobSatPoints_15_TEXT': 'NA', 'AIThreat': 'Yes', 'NewRole': 'I have somewhat considered changing my career and/or the industry I work in', 'ToolCountWork': 'NA', 'ToolCountPersonal': 'NA', 'Country': 'Ukraine', 'Currency': 'USD United States dollar', 'CompTotal': '6240', 'LanguageChoice': 'Yes', 'LanguageHaveWorkedWith': 'JavaScript;TypeScript', 'LanguageWantToWorkWith': 'NA', 'LanguageAdmired': 'JavaScript;TypeScript', 'LanguagesHaveEntry': 'NA', 'LanguagesWantEntry': 'NA', 'DatabaseChoice': 'No', 'DatabaseHaveWorkedWith': 'NA', 'DatabaseWantToWorkWith': 'NA', 'DatabaseAdmired': 'NA', 'DatabaseHaveEntry': 'NA', 'DatabaseWantEntry': 'NA', 'PlatformChoice': 'Yes', 'PlatformHaveWorkedWith': 'NA', 'PlatformWantToWorkWith': 'NA', 'PlatformAdmired': 'NA', 'PlatformHaveEntry': 'NA', 'PlatformWantEntry': 'NA', 'WebframeChoice': 'Yes', 'WebframeHaveWorkedWith': 'NA', 'WebframeWantToWorkWith': 'NA', 'WebframeAdmired': 'Next.js;Node.js;React', 'WebframeHaveEntry': 'NA', 'WebframeWantEntry': 'NA', 'DevEnvsChoice': 'Yes', 'DevEnvsHaveWorkedWith': 'NA', 'DevEnvsWantToWorkWith': 'NA', 'DevEnvsAdmired': 'WebStorm', 'DevEnvHaveEntry': 'NA', 'DevEnvWantEntry': 'NA', 'SOTagsHaveWorkedWith': 'NA', 'SOTagsWantToWorkWith': 'NA', 'SOTagsAdmired': 'NA', 'SOTagsHaveEntry': 'NA', 'SOTagsWant Entry': 'NA', 'OpSysPersonal use': 'MacOS;Debian;Linux (non-WSL)', 'OpSysProfessional use': 'MacOS', 'OfficeStackAsyncHaveWorkedWith': 'NA', 'OfficeStackAsyncWantToWorkWith': 'NA', 'OfficeStackAsyncAdmired': 'NA', 'OfficeStackHaveEntry': 'NA', 'OfficeStackWantEntry': 'NA', 'CommPlatformHaveWorkedWith': 'NA', 'CommPlatformWantToWorkWith': 'NA', 'CommPlatformAdmired': 'NA', 'CommPlatformHaveEntr': 'NA', 'CommPlatformWantEntr': 'NA', 'AIModelsChoice': 'No', 'AIModelsHaveWorkedWith': 'NA', 'AIModelsWantToWorkWith': 'NA', 'AIModelsAdmired': 'NA', 'AIModelsHaveEntry': 'NA', 'AIModelsWantEntry': 'NA', 'SOAccount': \"Not sure/can't remember\", 'SOVisitFreq': 'A few times per month or weekly', 'SODuration': 'Between 5 and 10 years', 'SOPartFreq': 'Infrequently, less than once per year', 'SO_Dev_Content': 'Long-form articles;Videos;Lists of recommendations (tools, frameworks, technologies, etc.);Day-in-the-life profiles/interviews with experts;Chat (bot/AI)', 'SO_Actions_1': 'NA', 'SO_Actions_16': 'NA', 'SO_Actions_3': 'NA', 'SO_Actions_4': 'NA', 'SO_Actions_5': 'NA', 'SO_Actions_6': 'NA', 'SO_Actions_9': 'NA', 'SO_Actions_7': 'NA', 'SO_Actions_10': 'NA', 'SO_Actions_15': 'NA', 'SO_Actions_15_TEXT': 'NA', 'SOComm': 'NA', 'SOFriction': 'NA', 'AISelect': 'Yes, I use AI tools daily', 'AISent': 'Favorable', 'AIAcc': 'Somewhat trust', 'AIComplex': 'Neither good or bad at handling complex tasks', 'AIToolCurrently partially AI': 'Learning about a codebase;Writing code;Documenting code;Testing code;Deployment and monitoring;Predictive analytics;Search for answers;Generating content or synthetic data;Creating or maintaining documentation;Learning new concepts or technologies', \"AIToolDon't plan to use AI for this task\": 'NA', 'AIToolPlan to partially use AI': 'Project planning;Debugging or fixing code;Committing and reviewing code', 'AIToolPlan to mostly use AI': 'NA', 'AIToolCurrently mostly AI': 'NA', 'AIFrustration': 'AI solutions that are almost right, but not quite;I’ve become less confident in my own problem-solving', 'AIExplain': 'NA', 'AIAgents': 'Yes, I use AI agents at work monthly or infrequently', 'AIAgentChange': 'Yes, somewhat', 'AIAgent_Uses': 'Software engineering', 'AgentUsesGeneral': 'NA', 'AIAgentImpactSomewhat agree': 'AI agents have increased my productivity.;AI agents have helped me automate repetitive tasks.;AI agents have accelerated my learning about new technologies or codebases.;AI agents have reduced the time spent on specific development tasks.', 'AIAgentImpactNeutral': 'AI agents have improved the quality of my code.;AI agents have helped me solve complex problems more effectively.;AI agents have improved collaboration within my team.', 'AIAgentImpactSomewhat disagree': 'NA', 'AIAgentImpactStrongly agree': 'NA', 'AIAgentImpactStrongly disagree': 'NA', 'AIAgentChallengesNeutral': \"The cost of using certain AI agent platforms is a barrier.;My company's IT and/or InfoSec teams have strict rules that do not allow me to use AI agent tools or platforms\", 'AIAgentChallengesSomewhat disagree': 'NA', 'AIAgentChallengesStrongly agree': 'I am concerned about the accuracy of the information provided by AI agents.;Integrating AI agents with my existing tools and workflows can be difficult.;I have concerns about the security and privacy of data when using AI agents.', 'AIAgentChallengesSomewhat agree': 'It takes significant time and effort to learn how to use AI agents effectively.', 'AIAgentChallengesStrongly disagree': 'NA', 'AIAgentKnowledge': 'NA', 'AIAgentKnowWrite': 'NA', 'AIAgentOrchestration': 'NA', 'AIAgentOrchWrite': 'NA', 'AIAgentObserveSecure': 'Sentry', 'AIAgentObsWrite': 'NA', 'AIAgentExternal': 'ChatGPT;Claude Code;Google Gemini', 'AIAgentExtWrite': 'NA', 'AIHuman': 'When I don’t trust AI’s answers;When I need help fixing complex or unfamiliar code;When I need quick help troubleshooting', 'AIOpen': 'NA', 'ConvertedCompYearly': '6240', 'JobSat': '6'}, {'ResponseId': '8', 'MainBranch': 'I am a developer by profession', 'Age': '35-44 years old', 'EdLevel': 'Professional degree (JD, MD, Ph.D, Ed.D, etc.)', 'Employment': 'Employed', 'EmploymentAddl': 'Engaged in paid work (20-29 hours per week);Transitioning to retirement (gradually reducing work hours)', 'WorkExp': '22', 'LearnCodeChoose': 'Yes, I am not new to coding but am learning new coding techniques or programming language', 'LearnCode': 'Books / Physical media;Technical documentation (is generated for/by the tool or system);AI CodeGen tools or AI-enabled apps;Blogs or podcasts', 'LearnCodeAI': 'Yes, I learned how to use AI-enabled tools for my personal curiosity and/or hobbies', 'AILearnHow': 'AI CodeGen tools or AI-enabled apps;Blogs or podcasts', 'YearsCode': '30', 'DevType': 'Architect, software or solutions', 'OrgSize': 'Less than 20 employees', 'ICorPM': 'People manager', 'RemoteWork': 'Remote', 'PurchaseInfluence': 'Yes, I influenced the purchase of a substantial addition to the tech stack', 'TechEndorseIntro': 'Personal Project', 'TechEndorse_1': '12', 'TechEndorse_2': '2', 'TechEndorse_3': '1', 'TechEndorse_4': '10', 'TechEndorse_5': '4', 'TechEndorse_6': '5', 'TechEndorse_7': '8', 'TechEndorse_8': '6', 'TechEndorse_9': '7', 'TechEndorse_13': '14', 'TechEndorse_13_TEXT': 'NA', 'TechOppose_1': '14', 'TechOppose_2': '3', 'TechOppose_3': '4', 'TechOppose_5': '9', 'TechOppose_7': '1', 'TechOppose_9': '5', 'TechOppose_11': '2', 'TechOppose_13': '11', 'TechOppose_16': '12', 'TechOppose_15': '15', 'TechOppose_15_TEXT': 'NA', 'Industry': 'Software Development', 'JobSatPoints_1': '7', 'JobSatPoints_4': '10', 'JobSatPoints_5': '14', 'JobSatPoints_6': '12', 'JobSatPoints_7': '4', 'JobSatPoints_8': '2', 'JobSatPoints_9': '5', 'JobSatPoints_10': '13', 'JobSatPoints_11': '6', 'JobSatPoints_13': '3', 'JobSatPoints_14': '1', 'JobSatPoints_15': '15', 'JobSatPoints_16': '8', 'JobSatPoints_15_TEXT': 'NA', 'AIThreat': 'Yes', 'NewRole': 'I have strongly considered changing my career and/or the industry I work in', 'ToolCountWork': '10', 'ToolCountPersonal': '10', 'Country': 'Ukraine', 'Currency': 'USD United States dollar', 'CompTotal': '72000', 'LanguageChoice': 'Yes', 'LanguageHaveWorkedWith': 'Bash/Shell (all shells);HTML/CSS;JavaScript;Python;SQL;TypeScript', 'LanguageWantToWorkWith': 'NA', 'LanguageAdmired': 'Bash/Shell (all shells);HTML/CSS;JavaScript;Python;SQL;TypeScript', 'LanguagesHaveEntry': 'NA', 'LanguagesWantEntry': 'NA', 'DatabaseChoice': 'Yes', 'DatabaseHaveWorkedWith': 'NA', 'DatabaseWantToWorkWith': 'NA', 'DatabaseAdmired': 'PostgreSQL;SQLite', 'DatabaseHaveEntry': 'NA', 'DatabaseWantEntry': 'NA', 'PlatformChoice': 'Yes', 'PlatformHaveWorkedWith': 'NA', 'PlatformWantToWorkWith': 'NA', 'PlatformAdmired': 'APT;Docker;Homebrew;Pip', 'PlatformHaveEntry': 'NA', 'PlatformWantEntry': 'NA', 'WebframeChoice': 'Yes', 'WebframeHaveWorkedWith': 'NA', 'WebframeWantToWorkWith': 'NA', 'WebframeAdmired': 'Django', 'WebframeHaveEntry': 'NA', 'WebframeWantEntry': 'NA', 'DevEnvsChoice': 'Yes', 'DevEnvsHaveWorkedWith': 'NA', 'DevEnvsWantToWorkWith': 'NA', 'DevEnvsAdmired': 'PyCharm;Visual Studio Code', 'DevEnvHaveEntry': 'NA', 'DevEnvWantEntry': 'NA', 'SOTagsHaveWorkedWith': 'NA', 'SOTagsWantToWorkWith': 'NA', 'SOTagsAdmired': 'NA', 'SOTagsHaveEntry': 'NA', 'SOTagsWant Entry': 'NA', 'OpSysPersonal use': 'MacOS;iOS;iPadOS', 'OpSysProfessional use': 'MacOS;Ubuntu;Linux (non-WSL)', 'OfficeStackAsyncHaveWorkedWith': 'NA', 'OfficeStackAsyncWantToWorkWith': 'NA', 'OfficeStackAsyncAdmired': 'GitHub;Jira', 'OfficeStackHaveEntry': 'NA', 'OfficeStackWantEntry': 'NA', 'CommPlatformHaveWorkedWith': 'NA', 'CommPlatformWantToWorkWith': 'NA', 'CommPlatformAdmired': 'Stack Overflow;Stack Exchange;GitHub (public projects, not private repos);X;YouTube;LinkedIn', 'CommPlatformHaveEntr': 'NA', 'CommPlatformWantEntr': 'NA', 'AIModelsChoice': 'Yes', 'AIModelsHaveWorkedWith': 'NA', 'AIModelsWantToWorkWith': 'NA', 'AIModelsAdmired': 'openAI GPT (chatbot models)', 'AIModelsHaveEntry': 'NA', 'AIModelsWantEntry': 'NA', 'SOAccount': 'Yes', 'SOVisitFreq': 'A few times per month or weekly', 'SODuration': 'Between 10 and 15 years', 'SOPartFreq': 'Infrequently, less than once per year', 'SO_Dev_Content': 'Chat (people);Message Boards;Long-form articles;Videos;Lists of recommendations (tools, frameworks, technologies, etc.);Direct messaging of users;Chat (bot/AI)', 'SO_Actions_1': '7', 'SO_Actions_16': 'NA', 'SO_Actions_3': '10', 'SO_Actions_4': '1', 'SO_Actions_5': '6', 'SO_Actions_6': '5', 'SO_Actions_9': '4', 'SO_Actions_7': '2', 'SO_Actions_10': '11', 'SO_Actions_15': '15', 'SO_Actions_15_TEXT': 'NA', 'SOComm': 'Yes, definitely', 'SOFriction': 'About half of the time', 'AISelect': 'Yes, I use AI tools daily', 'AISent': 'Very favorable', 'AIAcc': 'Somewhat trust', 'AIComplex': 'Neither good or bad at handling complex tasks', 'AIToolCurrently partially AI': 'Writing code;Documenting code', \"AIToolDon't plan to use AI for this task\": 'NA', 'AIToolPlan to partially use AI': 'Project planning;Debugging or fixing code;Deployment and monitoring;Predictive analytics', 'AIToolPlan to mostly use AI': 'Learning about a codebase;Testing code;Committing and reviewing code;Generating content or synthetic data;Creating or maintaining documentation', 'AIToolCurrently mostly AI': 'Search for answers;Learning new concepts or technologies', 'AIFrustration': 'AI solutions that are almost right, but not quite;Debugging AI-generated code is more time-consuming;I’ve become less confident in my own problem-solving;Other (write in):', 'AIExplain': 'NA', 'AIAgents': 'No, but I plan to', 'AIAgentChange': 'Yes, to a great extent', 'AIAgent_Uses': 'NA', 'AgentUsesGeneral': 'NA', 'AIAgentImpactSomewhat agree': 'NA', 'AIAgentImpactNeutral': 'NA', 'AIAgentImpactSomewhat disagree': 'NA', 'AIAgentImpactStrongly agree': 'NA', 'AIAgentImpactStrongly disagree': 'NA', 'AIAgentChallengesNeutral': 'NA', 'AIAgentChallengesSomewhat disagree': 'I have concerns about the security and privacy of data when using AI agents.', 'AIAgentChallengesStrongly agree': 'I am concerned about the accuracy of the information provided by AI agents.;It takes significant time and effort to learn how to use AI agents effectively.', 'AIAgentChallengesSomewhat agree': 'The cost of using certain AI agent platforms is a barrier.', 'AIAgentChallengesStrongly disagree': \"Integrating AI agents with my existing tools and workflows can be difficult.;My company's IT and/or InfoSec teams have strict rules that do not allow me to use AI agent tools or platforms\", 'AIAgentKnowledge': 'NA', 'AIAgentKnowWrite': 'NA', 'AIAgentOrchestration': 'NA', 'AIAgentOrchWrite': 'NA', 'AIAgentObserveSecure': 'NA', 'AIAgentObsWrite': 'NA', 'AIAgentExternal': 'NA', 'AIAgentExtWrite': 'NA', 'AIHuman': 'When I want to learn best practices;When I want to compare different solutions;When I’m stuck and can’t explain the problem;Other (please specify):', 'AIOpen': 'NA', 'ConvertedCompYearly': '72000', 'JobSat': '6'}, {'ResponseId': '9', 'MainBranch': 'I am a developer by profession', 'Age': '25-34 years old', 'EdLevel': 'Bachelor’s degree (B.A., B.S., B.Eng., etc.)', 'Employment': 'Employed', 'EmploymentAddl': 'Caring for dependents (children, elderly, etc.);Volunteering (regularly)', 'WorkExp': '9', 'LearnCodeChoose': 'Yes, I am not new to coding but am learning new coding techniques or programming language', 'LearnCode': 'Online Courses or Certification (includes all media types);Other online resources (e.g. standard search, forum, online community);Books / Physical media;Videos (not associated with specific online course or certification);Stack Overflow or Stack Exchange;Technical documentation (is generated for/by the tool or system);AI CodeGen tools or AI-enabled apps;Blogs or podcasts', 'LearnCodeAI': 'Yes, I learned how to use AI-enabled tools for my personal curiosity and/or hobbies', 'AILearnHow': 'Technical documentation (is generated for/by the tool or system);Videos (not associated with specific online course or certification);Other online resources (e.g. standard search, forum, online community);Blogs or podcasts', 'YearsCode': '15', 'DevType': 'Data engineer', 'OrgSize': '5,000 to 9,999 employees', 'ICorPM': 'Individual contributor', 'RemoteWork': 'Remote', 'PurchaseInfluence': 'Yes, I influenced the purchase of a tool that more than five colleagues use but it is not a substantial addition to the tech stack', 'TechEndorseIntro': 'Personal Project', 'TechEndorse_1': '5', 'TechEndorse_2': '7', 'TechEndorse_3': '13', 'TechEndorse_4': '4', 'TechEndorse_5': '9', 'TechEndorse_6': '8', 'TechEndorse_7': '12', 'TechEndorse_8': '2', 'TechEndorse_9': '11', 'TechEndorse_13': '14', 'TechEndorse_13_TEXT': 'NA', 'TechOppose_1': '11', 'TechOppose_2': '13', 'TechOppose_3': '10', 'TechOppose_5': '1', 'TechOppose_7': '5', 'TechOppose_9': '9', 'TechOppose_11': '7', 'TechOppose_13': '8', 'TechOppose_16': '2', 'TechOppose_15': '15', 'TechOppose_15_TEXT': 'NA', 'Industry': 'Banking/Financial Services', 'JobSatPoints_1': '1', 'JobSatPoints_4': '5', 'JobSatPoints_5': '6', 'JobSatPoints_6': '7', 'JobSatPoints_7': '8', 'JobSatPoints_8': '9', 'JobSatPoints_9': '10', 'JobSatPoints_10': '11', 'JobSatPoints_11': '12', 'JobSatPoints_13': '13', 'JobSatPoints_14': '14', 'JobSatPoints_15': '15', 'JobSatPoints_16': '3', 'JobSatPoints_15_TEXT': 'NA', 'AIThreat': 'No', 'NewRole': 'I have transitioned into a new career and/or industry voluntarily', 'ToolCountWork': 'NA', 'ToolCountPersonal': 'NA', 'Country': 'Ukraine', 'Currency': 'USD United States dollar', 'CompTotal': '70000', 'LanguageChoice': 'NA', 'LanguageHaveWorkedWith': 'Java;Python;Scala', 'LanguageWantToWorkWith': 'NA', 'LanguageAdmired': 'Scala', 'LanguagesHaveEntry': 'NA', 'LanguagesWantEntry': 'NA', 'DatabaseChoice': 'NA', 'DatabaseHaveWorkedWith': 'NA', 'DatabaseWantToWorkWith': 'NA', 'DatabaseAdmired': 'Dynamodb;MySQL;PostgreSQL', 'DatabaseHaveEntry': 'NA', 'DatabaseWantEntry': 'NA', 'PlatformChoice': 'NA', 'PlatformHaveWorkedWith': 'NA', 'PlatformWantToWorkWith': 'NA', 'PlatformAdmired': 'Amazon Web Services (AWS);Datadog;Microsoft Azure', 'PlatformHaveEntry': 'NA', 'PlatformWantEntry': 'NA', 'WebframeChoice': 'NA', 'WebframeHaveWorkedWith': 'NA', 'WebframeWantToWorkWith': 'NA', 'WebframeAdmired': 'NA', 'WebframeHaveEntry': 'NA', 'WebframeWantEntry': 'NA', 'DevEnvsChoice': 'NA', 'DevEnvsHaveWorkedWith': 'NA', 'DevEnvsWantToWorkWith': 'NA', 'DevEnvsAdmired': 'NA', 'DevEnvHaveEntry': 'NA', 'DevEnvWantEntry': 'NA', 'SOTagsHaveWorkedWith': 'NA', 'SOTagsWantToWorkWith': 'NA', 'SOTagsAdmired': 'NA', 'SOTagsHaveEntry': 'NA', 'SOTagsWant Entry': 'NA', 'OpSysPersonal use': 'NA', 'OpSysProfessional use': 'NA', 'OfficeStackAsyncHaveWorkedWith': 'NA', 'OfficeStackAsyncWantToWorkWith': 'NA', 'OfficeStackAsyncAdmired': 'NA', 'OfficeStackHaveEntry': 'NA', 'OfficeStackWantEntry': 'NA', 'CommPlatformHaveWorkedWith': 'NA', 'CommPlatformWantToWorkWith': 'NA', 'CommPlatformAdmired': 'NA', 'CommPlatformHaveEntr': 'NA', 'CommPlatformWantEntr': 'NA', 'AIModelsChoice': 'NA', 'AIModelsHaveWorkedWith': 'NA', 'AIModelsWantToWorkWith': 'NA', 'AIModelsAdmired': 'NA', 'AIModelsHaveEntry': 'NA', 'AIModelsWantEntry': 'NA', 'SOAccount': 'NA', 'SOVisitFreq': 'NA', 'SODuration': 'NA', 'SOPartFreq': 'NA', 'SO_Dev_Content': 'NA', 'SO_Actions_1': '1', 'SO_Actions_16': 'NA', 'SO_Actions_3': '4', 'SO_Actions_4': '5', 'SO_Actions_5': '6', 'SO_Actions_6': '7', 'SO_Actions_9': '8', 'SO_Actions_7': '9', 'SO_Actions_10': '11', 'SO_Actions_15': '15', 'SO_Actions_15_TEXT': 'NA', 'SOComm': 'NA', 'SOFriction': 'NA', 'AISelect': 'Yes, I use AI tools monthly or infrequently', 'AISent': 'Indifferent', 'AIAcc': 'Neither trust nor distrust', 'AIComplex': 'Neither good or bad at handling complex tasks', 'AIToolCurrently partially AI': 'NA', \"AIToolDon't plan to use AI for this task\": 'NA', 'AIToolPlan to partially use AI': 'NA', 'AIToolPlan to mostly use AI': 'NA', 'AIToolCurrently mostly AI': 'NA', 'AIFrustration': 'NA', 'AIExplain': 'NA', 'AIAgents': 'NA', 'AIAgentChange': 'NA', 'AIAgent_Uses': 'Software engineering;Data and analytics', 'AgentUsesGeneral': 'NA', 'AIAgentImpactSomewhat agree': 'NA', 'AIAgentImpactNeutral': 'NA', 'AIAgentImpactSomewhat disagree': 'NA', 'AIAgentImpactStrongly agree': 'NA', 'AIAgentImpactStrongly disagree': 'NA', 'AIAgentChallengesNeutral': 'NA', 'AIAgentChallengesSomewhat disagree': 'NA', 'AIAgentChallengesStrongly agree': 'NA', 'AIAgentChallengesSomewhat agree': 'NA', 'AIAgentChallengesStrongly disagree': 'NA', 'AIAgentKnowledge': 'NA', 'AIAgentKnowWrite': 'NA', 'AIAgentOrchestration': 'NA', 'AIAgentOrchWrite': 'NA', 'AIAgentObserveSecure': 'NA', 'AIAgentObsWrite': 'NA', 'AIAgentExternal': 'NA', 'AIAgentExtWrite': 'NA', 'AIHuman': 'NA', 'AIOpen': 'NA', 'ConvertedCompYearly': '70000', 'JobSat': '8'}, {'ResponseId': '10', 'MainBranch': 'I am a developer by profession', 'Age': '25-34 years old', 'EdLevel': 'Master’s degree (M.A., M.S., M.Eng., MBA, etc.)', 'Employment': 'Employed', 'EmploymentAddl': 'None of the above', 'WorkExp': '7', 'LearnCodeChoose': 'Yes, I am not new to coding but am learning new coding techniques or programming language', 'LearnCode': 'Other online resources (e.g. standard search, forum, online community);Books / Physical media;Videos (not associated with specific online course or certification);Stack Overflow or Stack Exchange;Technical documentation (is generated for/by the tool or system);Blogs or podcasts', 'LearnCodeAI': 'No, I learned something that was not related to AI or AI enablement for my personal curiosity and/or hobbies', 'AILearnHow': 'NA', 'YearsCode': '10', 'DevType': 'Developer, mobile', 'OrgSize': '20 to 99 employees', 'ICorPM': 'Individual contributor', 'RemoteWork': 'Remote', 'PurchaseInfluence': 'No', 'TechEndorseIntro': 'Work', 'TechEndorse_1': '13', 'TechEndorse_2': '2', 'TechEndorse_3': '5', 'TechEndorse_4': '1', 'TechEndorse_5': '6', 'TechEndorse_6': '9', 'TechEndorse_7': '10', 'TechEndorse_8': '7', 'TechEndorse_9': '4', 'TechEndorse_13': '14', 'TechEndorse_13_TEXT': 'NA', 'TechOppose_1': '14', 'TechOppose_2': '1', 'TechOppose_3': '9', 'TechOppose_5': '10', 'TechOppose_7': '8', 'TechOppose_9': '5', 'TechOppose_11': '2', 'TechOppose_13': '3', 'TechOppose_16': '12', 'TechOppose_15': '15', 'TechOppose_15_TEXT': 'NA', 'Industry': 'Software Development', 'JobSatPoints_1': 'NA', 'JobSatPoints_4': 'NA', 'JobSatPoints_5': 'NA', 'JobSatPoints_6': 'NA', 'JobSatPoints_7': 'NA', 'JobSatPoints_8': 'NA', 'JobSatPoints_9': 'NA', 'JobSatPoints_10': 'NA', 'JobSatPoints_11': 'NA', 'JobSatPoints_13': 'NA', 'JobSatPoints_14': 'NA', 'JobSatPoints_15': 'NA', 'JobSatPoints_16': 'NA', 'JobSatPoints_15_TEXT': 'NA', 'AIThreat': 'No', 'NewRole': 'I have somewhat considered changing my career and/or the industry I work in', 'ToolCountWork': '6', 'ToolCountPersonal': '2', 'Country': 'Ukraine', 'Currency': 'USD United States dollar', 'CompTotal': '5400', 'LanguageChoice': 'Yes', 'LanguageHaveWorkedWith': 'NA', 'LanguageWantToWorkWith': 'NA', 'LanguageAdmired': 'NA', 'LanguagesHaveEntry': 'NA', 'LanguagesWantEntry': 'NA', 'DatabaseChoice': 'No', 'DatabaseHaveWorkedWith': 'NA', 'DatabaseWantToWorkWith': 'NA', 'DatabaseAdmired': 'NA', 'DatabaseHaveEntry': 'NA', 'DatabaseWantEntry': 'NA', 'PlatformChoice': 'Yes', 'PlatformHaveWorkedWith': 'NA', 'PlatformWantToWorkWith': 'NA', 'PlatformAdmired': 'NA', 'PlatformHaveEntry': 'NA', 'PlatformWantEntry': 'NA', 'WebframeChoice': 'No', 'WebframeHaveWorkedWith': 'NA', 'WebframeWantToWorkWith': 'NA', 'WebframeAdmired': 'NA', 'WebframeHaveEntry': 'NA', 'WebframeWantEntry': 'NA', 'DevEnvsChoice': 'Yes', 'DevEnvsHaveWorkedWith': 'NA', 'DevEnvsWantToWorkWith': 'NA', 'DevEnvsAdmired': 'NA', 'DevEnvHaveEntry': 'NA', 'DevEnvWantEntry': 'NA', 'SOTagsHaveWorkedWith': 'NA', 'SOTagsWantToWorkWith': 'NA', 'SOTagsAdmired': 'NA', 'SOTagsHaveEntry': 'NA', 'SOTagsWant Entry': 'NA', 'OpSysPersonal use': 'MacOS;iOS', 'OpSysProfessional use': 'MacOS;iOS', 'OfficeStackAsyncHaveWorkedWith': 'NA', 'OfficeStackAsyncWantToWorkWith': 'NA', 'OfficeStackAsyncAdmired': 'NA', 'OfficeStackHaveEntry': 'NA', 'OfficeStackWantEntry': 'NA', 'CommPlatformHaveWorkedWith': 'NA', 'CommPlatformWantToWorkWith': 'NA', 'CommPlatformAdmired': 'Stack Overflow;GitHub (public projects, not private repos);YouTube;Medium', 'CommPlatformHaveEntr': 'NA', 'CommPlatformWantEntr': 'NA', 'AIModelsChoice': 'No', 'AIModelsHaveWorkedWith': 'NA', 'AIModelsWantToWorkWith': 'NA', 'AIModelsAdmired': 'NA', 'AIModelsHaveEntry': 'NA', 'AIModelsWantEntry': 'NA', 'SOAccount': 'Yes', 'SOVisitFreq': 'Daily or almost daily', 'SODuration': 'Between 5 and 10 years', 'SOPartFreq': 'I have never participated in Q&A on Stack Overflow', 'SO_Dev_Content': 'NA', 'SO_Actions_1': 'NA', 'SO_Actions_16': 'NA', 'SO_Actions_3': 'NA', 'SO_Actions_4': 'NA', 'SO_Actions_5': 'NA', 'SO_Actions_6': 'NA', 'SO_Actions_9': 'NA', 'SO_Actions_7': 'NA', 'SO_Actions_10': 'NA', 'SO_Actions_15': 'NA', 'SO_Actions_15_TEXT': 'NA', 'SOComm': 'No, not really', 'SOFriction': \"I don't use AI or AI-enabled tools\", 'AISelect': \"No, and I don't plan to\", 'AISent': 'Unfavorable', 'AIAcc': 'Highly distrust', 'AIComplex': 'Very poor at handling complex tasks', 'AIToolCurrently partially AI': 'NA', \"AIToolDon't plan to use AI for this task\": 'NA', 'AIToolPlan to partially use AI': 'Testing code', 'AIToolPlan to mostly use AI': 'NA', 'AIToolCurrently mostly AI': 'NA', 'AIFrustration': 'AI solutions that are almost right, but not quite;Debugging AI-generated code is more time-consuming;I don’t use AI tools regularly', 'AIExplain': 'NA', 'AIAgents': 'No, but I plan to', 'AIAgentChange': 'No, but my development work has changed somewhat due to non-AI factors', 'AIAgent_Uses': 'NA', 'AgentUsesGeneral': 'NA', 'AIAgentImpactSomewhat agree': 'NA', 'AIAgentImpactNeutral': 'NA', 'AIAgentImpactSomewhat disagree': 'NA', 'AIAgentImpactStrongly agree': 'NA', 'AIAgentImpactStrongly disagree': 'NA', 'AIAgentChallengesNeutral': 'The cost of using certain AI agent platforms is a barrier.', 'AIAgentChallengesSomewhat disagree': 'It takes significant time and effort to learn how to use AI agents effectively.', 'AIAgentChallengesStrongly agree': 'I have concerns about the security and privacy of data when using AI agents.', 'AIAgentChallengesSomewhat agree': 'I am concerned about the accuracy of the information provided by AI agents.;Integrating AI agents with my existing tools and workflows can be difficult.', 'AIAgentChallengesStrongly disagree': \"My company's IT and/or InfoSec teams have strict rules that do not allow me to use AI agent tools or platforms\", 'AIAgentKnowledge': 'NA', 'AIAgentKnowWrite': 'NA', 'AIAgentOrchestration': 'NA', 'AIAgentOrchWrite': 'NA', 'AIAgentObserveSecure': 'NA', 'AIAgentObsWrite': 'NA', 'AIAgentExternal': 'NA', 'AIAgentExtWrite': 'NA', 'AIHuman': 'When I’m stuck and can’t explain the problem;When I need help fixing complex or unfamiliar code;When I need quick help troubleshooting', 'AIOpen': 'NA', 'ConvertedCompYearly': '5400', 'JobSat': '4'}]\n"
     ]
    }
   ],
   "execution_count": 6
  },
  {
   "cell_type": "markdown",
   "metadata": {},
   "source": [
    "## Questions"
   ]
  },
  {
   "cell_type": "markdown",
   "metadata": {},
   "source": [
    "1. Print all of the questions asked in the developer survey"
   ]
  },
  {
   "cell_type": "code",
   "metadata": {
    "ExecuteTime": {
     "end_time": "2025-10-07T13:15:18.896966Z",
     "start_time": "2025-10-07T13:15:18.888328Z"
    }
   },
   "source": [
    "QID = '\\ufeff\"qid\"'\n",
    "\n",
    "q_set = set()\n",
    "count = 1\n",
    "\n",
    "for q in reader.get_schema():\n",
    "    if q[QID] not in q_set:\n",
    "        q_set.add(q[QID])\n",
    "\n",
    "        print(f\"Q{count}: \", end=\"\")\n",
    "        print(q[\"question\"])\n",
    "        print()\n",
    "\n",
    "        count += 1\n"
   ],
   "outputs": [
    {
     "name": "stdout",
     "output_type": "stream",
     "text": [
      "Q1: What attracts you to a technology or causes you to endorse it (most to least important)?\n",
      "\n",
      "Q2: What would turn you off or cause you to reject it (most to least important)?\n",
      "\n",
      "Q3: Rank the following attributes of your current professional job in technology according to those that contribute your job satisfaction so that the first is the most important, last is least important (if you just started a new job, consider the job you spent the most time at in the past year):\n",
      "\n",
      "Q4: When visiting Stack Overflow, which following activities are you most interested in?  Please rank the following so the first activity is what most interests you and last is your least interested activity.\n",
      "\n",
      "Q5: Are you someone who writes code? Please select one of the following options that best describes you today.\n",
      "\n",
      "Q6: What is your age?\n",
      "\n",
      "Q7: Which of the following best describes the highest level of formal education that you’ve completed? \n",
      "\n",
      "Q8: Which of the following best describes your current employment status?<br>\n",
      "\n",
      "Q9: Which of the following <strong>additional</strong> activities are you currently engaged in?\n",
      "\n",
      "Q10: How many years of professional work experience do you have? Please round to the nearest whole number, excluding any decimal points.  If your answer is '0', please leave blank.\n",
      "\n",
      "Q11: Did you begin learning to code or learn a new coding skill/programming language in the last year?\n",
      "\n",
      "Q12: How did you learn to code in the past year? Select all that apply.\n",
      "\n",
      "Q13: Did you spend time in the last year learning AI programming or AI-enabled tooling on your own or at work?\n",
      "\n",
      "Q14: How did you learn to code for AI in the past year? Select all that apply.\n",
      "\n",
      "Q15: Including any education, how many years have you been coding in total?  Please round to the nearest whole number, excluding any decimal points.\n",
      "\n",
      "Q16: Which of the following describes your current job or the job you had for the most time in the past year?\n",
      "\n",
      "Q17: Approximately how many people are employed by your employer?  This should only include your primary company, and if there was more than one employer please consider the one you spent most of your time working for in the past year.\n",
      "\n",
      "Q18: Are you an individual contributor or people manager?\n",
      "\n",
      "Q19: Which best describes your current work situation?\n",
      "\n",
      "Q20: Have you <strong>influenced or endorsed</strong> a new technology purchase at your organization or sole proprietor job in the past year?\n",
      "\n",
      "Q21: When you&rsquo;re in a position to <strong>influence or endorse a technology</strong>, whether at work, for school, or for a personal project you&rsquo;re responsible for, what features or attributes matter most when deciding to support a tool? What factors would be deal-breakers?<br />\n",
      "<br />\n",
      "First, select the context (work, school, personal project).  Then, rank the following features in order of importance.​​​​​​\n",
      "\n",
      "Q22: What industry do you work for in?\n",
      "\n",
      "Q23: How satisfied are you in your current professional developer role?\n",
      "\n",
      "Q24: Do you believe AI is a threat to your current job?\n",
      "\n",
      "Q25: Have you considered a career change or transitioned into a new role in the past year?\n",
      "\n",
      "Q26: For your <b>primary work role</b> (student, developer, or technologist) over the past year:\n",
      "<br><br>Excluding general operating systems (like Windows or macOS) and web browsers, <b>how many distinct software applications or platforms</b> did you regularly use to create, analyze, manage, or share information in order to do your job?\n",
      "\n",
      "Please enter a whole number below with no punctuation, or leave blank.\n",
      "\n",
      "Q27: <b></b>For your <b>side projects or other personal work</b> over the past year (focus on the project you spent the most time on if applicable):\n",
      "<br><br>Excluding general operating systems and web browsers, how many <b>distinct software applications or platforms</b> did you regularly use to do your job? Please enter a whole number below with no punctuation, or leave blank.\n",
      "\n",
      "Q28: Where do you live?\n",
      "\n",
      "Q29: Which currency do you use day-to-day? If your answer is complicated, please pick the one you're most comfortable estimating in.\n",
      "\n",
      "Q30: What is your current total <b>annual</b> compensation (salary, bonuses, and perks, before taxes and deductions) in terms of your day-to-day currency?  Please enter a whole number in the box below, without any punctuation.  If you are paid hourly, please estimate an equivalent yearly salary. If you prefer not to answer, please leave the box empty. \n",
      "\n",
      "Q31: Did you work with programming, scripting and markup languages in the last year or do you plan to in the year to come?  Here, we are referring to anything you use that is conventionally referred to as code.\n",
      "\n",
      "Q32: Which <b>programming, scripting, and markup languages</b> have you done extensive development work in over the past year, and which do you want to work in over the next year? (If you both worked with the language and want to continue to do so, please check both boxes in that row.)\n",
      "\n",
      "Q33: Was the programming language you use not listed above?  List below, separated by a comma and a space for each, the programming language(s) <strong>you used in the past year</strong>.\n",
      "\n",
      "Q34: Was the programming language you want to use not listed above? List below, separated by a comma and a space for each, the programming language(s) <strong>you want to use next year</strong>.\n",
      "\n",
      "Q35: Did you work with database environments in the last year or do you plan to in the year to come?  Here, we are referring to a system of managing structured data, mostly outside of your local machine.\n",
      "\n",
      "Q36: Which <b>database environments </b>have you done extensive development work in over the past year, and which do you want to work in over the next year? (If you both worked with the database and want to continue to do so, please check both boxes in that row.)\n",
      "\n",
      "Q37: Was the database environment you use not listed above?  List below, separated by a comma and a space for each, what <strong>you used in the past year</strong>.\n",
      "\n",
      "Q38: Was the database environment you want to use not listed above? List below, separated by a comma and a space for each, what <strong>you want to use next year</strong>.\n",
      "\n",
      "Q39: Did you work with cloud platforms, containerization/orchestration tools, package managers, build tools or infrastructure as code solutions in the last year or do you plan to in the year to come?  Here, we are referring to tooling that automates, manages, and scales the entire application lifecycle, often leveraging remote, virtualized resources.\n",
      "\n",
      "Q40: Which <b>cloud platforms, containerization/orchestration tools, package managers, build tools, and infrastructure as code solutions</b> have you done extensive development work in over the past year, and which do you want to work in over the next year? (If you both worked with the platform and want to continue to do so, please check both boxes in that row.)\n",
      "\n",
      "Q41: Was the cloud platforms, containerization/orchestration tools, package managers, build tools, and infrastructure as code solutions you use not listed above?  List below, separated by a comma and a space for each, what <strong>you used in the past year</strong>.\n",
      "\n",
      "Q42: Was the cloud platforms, containerization/orchestration tools, package managers, build tools, and infrastructure as code solutions you want to use not listed above?  List below, separated by a comma and a space for each, what<strong>you want to use next year</strong>.\n",
      "\n",
      "Q43: Did you work with web frameworks and web technologies in the last year or do you plan to in the year to come?  Here, we are referring to technology that helps website and web apps materialize.\n",
      "\n",
      "Q44: Which <b>web frameworks and web technologies</b> have you done extensive development work in over the past year, and which do you want to work in over the next year? (If you both worked with the framework and want to continue to do so, please check both boxes in that row.)\n",
      "\n",
      "Q45: Were the web frameworks and web technologies you use not listed above?  List below, separated by a comma and a space for each, what <strong>you used in the past year</strong>.\n",
      "\n",
      "Q46: Were the web frameworks and web technologies you want to use not listed above?  List below, separated by a comma and a space for each, the what <strong>you want to use next year</strong>.\n",
      "\n",
      "Q47: Did you work with development environments or AI-enabled code editing tools in the last year or do you plan to in the year to come?  Here, we are referring to programs like VS Code that allow you to write, edit and save code easily and help you share code with other developers or AI agents.\n",
      "\n",
      "Q48: Which <strong>development environments and AI-enabled code editing tools</strong> did you use regularly over the past year, and which do you want to work with over the next year? Please check all that apply.\n",
      "\n",
      "Q49: Was the developer environment or AI-enabled code editing tool you use not listed above?  List below, separated by a comma and a space for each, what<strong> you used in the past year</strong>.\n",
      "\n",
      "Q50: Was the developer environment or AI-enabled code editing tool you want to use not listed above?  List below, separated by a comma and a space for each, what <strong>you want to use next year</strong>.\n",
      "\n",
      "Q51: Which rising technology of the added as <b>new tag or tag subject area on Stack Overflow</b> in the last three years <strong>have you used</strong> regularly in the past year, and which do you <strong>want to work with</strong> over the next year? Please check all that apply.<br>\n",
      " \n",
      "\n",
      "Q52: Was the new tag on Stack Overflow (i.e. added in the last 2 - 3 years) you use not listed above?  List below, separated by a comma and a space for each, what <strong>you used in the past year</strong>.\n",
      "\n",
      "Q53: Was the new tag on Stack Overflow (i.e. added in the last 2 - 3 years) you want to use not listed above?  List below, separated by a comma and a space for each, what <strong>you want to use next year</strong>.\n",
      "\n",
      "Q54: What is the primary <b>operating system</b> in which you work? \n",
      "\n",
      "Q55: Which <b>collaborative work management and/or code documentation tools</b> did you use regularly over the past year, and which do you want to work with over the next year? Select all that apply\n",
      "\n",
      "Q56: Was the collaborative work management and/or code documentation tools you use not listed above?  List below, separated by a comma and a space for each, what you used in the past year.\n",
      "\n",
      "Q57: Was the collaborative work management and/or code documentation tools you want to use not listed above?  List below, separated by a comma and a space for each, what you used in the past year.\n",
      "\n",
      "Q58: Which <b>community platforms</b> have you utilized considerably or consistently in the past year, and which would you like to use next year?  Select all that apply.\n",
      "\n",
      "Q59: Was the community platform you use not listed above?  List below, separated by a comma and a space for each, what you used in the past year.\n",
      "\n",
      "Q60: Was the community platform you want to use not listed above?  List below, separated by a comma and a space for each, what you used in the past year.\n",
      "\n",
      "Q61: Did you utilize or integrate specific Large Language Models (LLMs) to power your development tools or applications in the last year?  Here, we are referring to models like GPT-4, Llama, Claude, etc., within your development environments or solutions.\n",
      "\n",
      "Q62: Which <b>LLM models for AI tools</b> have you used for development work in the past year, and which would you like to use next year?  Select all that apply.\n",
      "\n",
      "Q63: Was the LLM model for AI tools you use not listed above?  List below, separated by a comma and a space for each, what <strong>you used in the past year</strong>.\n",
      "\n",
      "Q64: Was the LLM model for AI tools you want to use not listed above?  List below, separated by a comma and a space for each, what <strong>you want to use next year</strong>.\n",
      "\n",
      "Q65: Do you have a Stack Overflow account?\n",
      "\n",
      "Q66: How frequently would you say you visit Stack Overflow?\n",
      "\n",
      "Q67: How long have you used Stack Overflow?\n",
      "\n",
      "Q68: How frequently would you say you participate in Q&amp;A on Stack Overflow? By participate we mean ask, answer, and vote or comment on questions.\n",
      "\n",
      "Q69: Whether it be to solve a problem, for career growth or connecting with a community of developers, is there an alternative to the Q&amp;A format you prefer using today or would like to see on Stack Overflow to get what you need? Select all that apply.\n",
      "\n",
      "Q70: Do you consider yourself a member of the Stack Overflow community?\n",
      "\n",
      "Q71: When you visit Stack Overflow, how often is it a result of encountering issues from AI or AI-enabled tools that require extra time or effort to fix, understand, or debug?\n",
      "\n",
      "Q72: Do you currently use AI tools in your development process?\n",
      "\n",
      "Q73: How favorable is your stance on using AI tools as part of your development workflow?\n",
      "\n",
      "Q74: How much do you trust the accuracy of the output from AI tools as part of your development workflow?\n",
      "\n",
      "Q75: How well do the AI tools you use in your development workflow handle complex tasks?\n",
      "\n",
      "Q76: Which parts of your development workflow are you currently integrating into AI or using AI tools to accomplish or plan to use AI to accomplish over the next 3 - 5 years?  Please select one for each scenario.\n",
      "\n",
      "Q77: When using AI tools, which of the following problems or frustrations have you encountered? Select all that apply.\n",
      "\n",
      "Q78: In your own words, is &quot;vibe coding&quot; part of your professional development work? For this question, we define vibe coding according to the <a href=\"https://en.wikipedia.org/wiki/Vibe_coding\" target=\"_blank\">Wikipedia definition</a>, the process of generating software from LLM prompts.\n",
      "\n",
      "Q79: Are you using AI agents in your work (development or otherwise)?  AI agents refer to autonomous software entities that can operate with minimal to no direct human intervention using artificial intelligence techniques.\n",
      "\n",
      "Q80: Have AI tools or AI agents changed how you complete development work in the past year?\n",
      "\n",
      "Q81: What industry purposes or specific tasks are you using AI agents in your development work? Select all that apply from both lists.\n",
      "\n",
      "Q82:  \n",
      "\n",
      "Q83: To what extent do you agree with the following statements regarding the impact of AI agents on your work as a developer?\n",
      "\n",
      "Q84: To what extent do you agree with the following statements regarding AI agents?\n",
      "\n",
      "Q85: You indicated you use or develop AI agents as part of your development work.  Have you used any of the following tools for AI agent memory or data management in the past year?\n",
      "\n",
      "Q86: Was the tool or tools for AI agent orchestration or agent frameworks you used in the past year not listed above?  Please write them below separated by a comma and space if there are more than one.\n",
      "\n",
      "Q87: You indicated you use or develop AI agents as part of your development work.  Have you used any of the following tools for AI agent orchestration or agent frameworks in the past year?\n",
      "\n",
      "Q88: Was the tool or tools for AI agent orchestration or agent frameworks you used in the past year not listed above?  Please write them below separated by a comma and space if there are more than one.\n",
      "\n",
      "Q89: You indicated you use or develop AI agents as part of your development work.  Have you used any of the following tools for AI agent observability, monitoring or security in the past year?\n",
      "\n",
      "Q90: Was the tool or tools for AI agent observability, monitoring or security you used in the past year not listed above?  Please write them below separated by a comma and space if there are more than one.\n",
      "\n",
      "Q91: You indicated you use or develop AI agents as part of your development work.  Have you used any of the following out-of-the-box agents, copilots or assistants?\n",
      "\n",
      "Q92: Was the out-of-the-box agents, copilots or assistants you used in the past year not listed above?  Please write them below separated by a comma and space if there are more than one.\n",
      "\n",
      "Q93: In the future, if AI can do most coding tasks, in which situations would you still want to ask another person for help? Select all that apply.\n",
      "\n",
      "Q94: Looking ahead 3–5 years, what skills do you believe will remain valuable for developers even as AI tools become more capable? Please describe.\n",
      "\n"
     ]
    }
   ],
   "execution_count": 7
  },
  {
   "cell_type": "markdown",
   "metadata": {},
   "source": [
    "2. Which age range has the most responses in the survey?"
   ]
  },
  {
   "cell_type": "code",
   "metadata": {
    "ExecuteTime": {
     "end_time": "2025-10-07T13:15:22.853737Z",
     "start_time": "2025-10-07T13:15:22.820072Z"
    }
   },
   "source": [
    "age_map = dict()\n",
    "\n",
    "for r in reader.get_data():\n",
    "    if r['Age'] not in age_map:\n",
    "        age_map[r['Age']] = 0\n",
    "\n",
    "    age_map[r['Age']] += 1\n",
    "\n",
    "print(max(age_map, key=age_map.get))\n",
    "\n",
    "#print(age_map)"
   ],
   "outputs": [
    {
     "name": "stdout",
     "output_type": "stream",
     "text": [
      "25-34 years old\n"
     ]
    }
   ],
   "execution_count": 8
  },
  {
   "cell_type": "markdown",
   "metadata": {},
   "source": [
    "3. How many survey respondents do we know definitely work for a company larger than Marshall Wace? (Feel free to ask one of us if you don't know how large Marshall Wace is!)"
   ]
  },
  {
   "cell_type": "code",
   "metadata": {
    "ExecuteTime": {
     "end_time": "2025-10-07T13:15:32.102550Z",
     "start_time": "2025-10-07T13:15:32.044576Z"
    }
   },
   "source": [
    "MW_head_count = 800\n",
    "\n",
    "larger_than_MW = 0\n",
    "\n",
    "for r in reader.get_data():\n",
    "    size = r[\"OrgSize\"]\n",
    "\n",
    "    if size.startswith(\"NA\") or size.startswith(\"Less\") or size.startswith(\"I\") or size.startswith(\"Just\"):\n",
    "        continue\n",
    "\n",
    "    lower_bound = int(size.split(\" \")[0].replace(\",\", \"\"))\n",
    "\n",
    "    if lower_bound > MW_head_count:\n",
    "        larger_than_MW += 1\n",
    "\n",
    "\n",
    "print(larger_than_MW)"
   ],
   "outputs": [
    {
     "name": "stdout",
     "output_type": "stream",
     "text": [
      "10715\n"
     ]
    }
   ],
   "execution_count": 9
  },
  {
   "cell_type": "markdown",
   "metadata": {},
   "source": [
    "4. How many survey respondents had less than 1 year of coding experience before (or outside of) coding for their profession?"
   ]
  },
  {
   "cell_type": "code",
   "metadata": {
    "ExecuteTime": {
     "end_time": "2025-10-07T13:15:34.768031Z",
     "start_time": "2025-10-07T13:15:34.737122Z"
    }
   },
   "source": [
    "no_experience_count = 0\n",
    "\n",
    "for r in reader.get_data():\n",
    "    if r[\"YearsCode\"] == r[\"WorkExp\"] and r[\"YearsCode\"] != \"NA\":\n",
    "        no_experience_count += 1\n",
    "\n",
    "print(no_experience_count)"
   ],
   "outputs": [
    {
     "name": "stdout",
     "output_type": "stream",
     "text": [
      "5267\n"
     ]
    }
   ],
   "execution_count": 10
  },
  {
   "cell_type": "markdown",
   "metadata": {},
   "source": [
    "5. Of the people who had 1 or more years of coding experience outside of coding professionally, what is the average number of years they spent coding outside of work? For simplicity, you can consider only the people who have given an exact number of years they have spent coding in both columns (i.e. excluding those with over 50 or less than 1 year)"
   ]
  },
  {
   "cell_type": "code",
   "metadata": {
    "ExecuteTime": {
     "end_time": "2025-10-07T13:15:36.746349Z",
     "start_time": "2025-10-07T13:15:36.693888Z"
    }
   },
   "source": [
    "total = 0\n",
    "count = 0\n",
    "\n",
    "for r in reader.get_data():\n",
    "    if r[\"YearsCode\"] != r[\"WorkExp\"] and r[\"YearsCode\"] != \"NA\" and r[\"WorkExp\"] != \"NA\":\n",
    "        outside_years = int(r[\"YearsCode\"]) - int(r[\"WorkExp\"])\n",
    "\n",
    "        if outside_years > 50:\n",
    "            continue\n",
    "\n",
    "        total += outside_years\n",
    "        count += 1\n",
    "\n",
    "print(total / count)"
   ],
   "outputs": [
    {
     "name": "stdout",
     "output_type": "stream",
     "text": [
      "4.3369423616941205\n"
     ]
    }
   ],
   "execution_count": 11
  },
  {
   "cell_type": "markdown",
   "metadata": {},
   "source": [
    "6. What is the median annual total compensation of those who specified their compensation in USD"
   ]
  },
  {
   "cell_type": "code",
   "metadata": {
    "ExecuteTime": {
     "end_time": "2025-10-07T13:43:11.301587Z",
     "start_time": "2025-10-07T13:43:11.256750Z"
    }
   },
   "source": [
    "import bisect\n",
    "\n",
    "# Data contains extreme values for compensation, so I will exclude extreme 10% (5% on either side)\n",
    "\n",
    "values = []\n",
    "\n",
    "count = 0\n",
    "\n",
    "for r in reader.get_data():\n",
    "    if r[\"Currency\"].startswith(\"USD\") and r[\"CompTotal\"] != \"NA\":\n",
    "\n",
    "        count += 1\n",
    "        comp = float(r[\"CompTotal\"])\n",
    "\n",
    "        if comp < 1_000.0 or comp > 1_000_000.0:\n",
    "            continue\n",
    "\n",
    "        bisect.insort(values, comp)\n",
    "\n",
    "drop_count = len(values) // 20\n",
    "\n",
    "values = values[drop_count:]\n",
    "\n",
    "values = values[:-drop_count]\n",
    "\n",
    "mid = len(values) // 2\n",
    "\n",
    "if len(values) % 2 == 0:\n",
    "    print((values[mid - 1] + values[mid]) / 2)\n",
    "else:\n",
    "    print(values[mid])"
   ],
   "outputs": [
    {
     "name": "stdout",
     "output_type": "stream",
     "text": [
      "136000.0\n"
     ]
    }
   ],
   "execution_count": 33
  },
  {
   "cell_type": "markdown",
   "metadata": {},
   "source": [
    "7. Which programming language has respondents with the highest annual compensation in USD? If a response lists multiple languages, you can attribute the compensation to each language in the response."
   ]
  },
  {
   "cell_type": "code",
   "metadata": {
    "ExecuteTime": {
     "end_time": "2025-10-07T13:42:55.023680Z",
     "start_time": "2025-10-07T13:42:54.952681Z"
    }
   },
   "source": [
    "import bisect\n",
    "\n",
    "language_map = dict()\n",
    "\n",
    "# Data contains extreme values for compensation, so I will exclude extreme 10% (5% on either side)\n",
    "# I also used median compensation\n",
    "\n",
    "for r in reader.get_data():\n",
    "    if r[\"Currency\"].startswith(\"USD\") and r[\"CompTotal\"] != \"NA\":\n",
    "        comp = float(r[\"CompTotal\"])\n",
    "\n",
    "        for l in filter(lambda x: x != \"NA\", r[\"LanguageHaveWorkedWith\"].split(\";\")):\n",
    "            if l not in language_map:\n",
    "                language_map[l] = []\n",
    "\n",
    "            bisect.insort(language_map[l], comp)\n",
    "\n",
    "result_dict = dict()\n",
    "\n",
    "for key, data in language_map.items():\n",
    "    mid = len(data) // 2\n",
    "    median = 0\n",
    "\n",
    "    drop_count = len(data) // 20\n",
    "\n",
    "    data = data[drop_count:]\n",
    "\n",
    "    data = data[:-drop_count]\n",
    "\n",
    "    if len(data) % 2 == 0:\n",
    "        median = (data[mid - 1] + data[mid]) / 2\n",
    "    else:\n",
    "        median = data[mid]\n",
    "\n",
    "    result_dict[key] = median\n",
    "\n",
    "print([(key, value) for key, value in result_dict.items()])\n",
    "print()\n",
    "print(max(result_dict, key=result_dict.get))"
   ],
   "outputs": [
    {
     "name": "stdout",
     "output_type": "stream",
     "text": [
      "[('C', 134500.0), ('C#', 139600.0), ('C++', 140000.0), ('Delphi', 101000.0), ('HTML/CSS', 140000.0), ('Java', 150000.0), ('JavaScript', 140000.0), ('Lua', 150000.0), ('PowerShell', 136000.0), ('Python', 150000.0), ('SQL', 145000.0), ('TypeScript', 150000.0), ('VBA', 120000.0), ('Visual Basic (.Net)', 117600.0), ('Scala', 200000.0), ('Bash/Shell (all shells)', 150000.0), ('Kotlin', 150000.0), ('Rust', 155500.0), ('Swift', 154500.0), ('Elixir', 172500.0), ('Ada', 100000.0), ('Assembly', 120000.0), ('COBOL', 100000.0), ('Fortran', 124000.0), ('Ruby', 167954.0), ('PHP', 110000.0), ('MicroPython', 106000.0), ('F#', 130000.0), ('Go', 170000.0), ('Perl', 150000.0), ('MATLAB', 115000.0), ('Dart', 120000.0), ('Groovy', 162000.0), ('Prolog', 140000.0), ('R', 125000.0), ('OCaml', 120000.0), ('GDScript', 129500.0), ('Gleam', 124000.0), ('Mojo', 75000.0), ('Zig', 130000.0), ('Erlang', 165000.0), ('Lisp', 149000.0)]\n",
      "\n",
      "Scala\n"
     ]
    }
   ],
   "execution_count": 32
  },
  {
   "cell_type": "markdown",
   "metadata": {},
   "source": [
    "## Bonus Task: SurveyDataReader\n",
    "\n",
    "`SurveyDataReader` is a basic class that allows you to access the underlying survey data programmatically. The class is implemented with basic data structures and no external dependencies hence there is plenty of room for optimisation. Try to improve the speed of basic operations and add some of your own by potentially leveraging a package such as [NumPy](https://numpy.org/)."
   ]
  }
 ],
 "metadata": {
  "kernelspec": {
   "display_name": "Python 3",
   "language": "python",
   "name": "python3"
  },
  "language_info": {
   "codemirror_mode": {
    "name": "ipython",
    "version": 3
   },
   "file_extension": ".py",
   "mimetype": "text/x-python",
   "name": "python",
   "nbconvert_exporter": "python",
   "pygments_lexer": "ipython3",
   "version": "3.11.0"
  }
 },
 "nbformat": 4,
 "nbformat_minor": 4
}
